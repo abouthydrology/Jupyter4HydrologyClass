{
 "cells": [
  {
   "cell_type": "markdown",
   "metadata": {},
   "source": [
    "# Interpolazione delle curve di Gumbel con il metodo dei momenti"
   ]
  },
  {
   "cell_type": "markdown",
   "metadata": {},
   "source": [
    "Ricordiamo l'espressione della famiglia parametrica di curve di Gumbel:\n",
    "$$ P[H<h; a,b] = e^{-e-{\\frac{h-a}{b}}}$$\n",
    "È noto inoltre che il valore atteso di $H$, è:\n",
    "$$ E[H;a,b] = b \\gamma + a $$\n",
    "dove $\\gamma = 0.572$ è il numero irrazionale detto di Eulero-Mascheroni.\n",
    "Il valore della varianza è invece:\n",
    "$$ Var[H;a,b] = b^2 \\frac{\\pi^2}{6}$$\n",
    "Il metodo dei momenti consiste nell'uguagliare media e varianza del campione con media e varianza della popolazione."
   ]
  },
  {
   "cell_type": "markdown",
   "metadata": {},
   "source": [
    "## Operazioni preliminari"
   ]
  },
  {
   "cell_type": "code",
   "execution_count": 1,
   "metadata": {
    "collapsed": true
   },
   "outputs": [],
   "source": [
    "import os\n",
    "import math\n",
    "from pandas import *\n",
    "import pandas as pd\n",
    "from datetime import datetime\n",
    "%matplotlib inline \n",
    "import matplotlib.pyplot as plt"
   ]
  },
  {
   "cell_type": "code",
   "execution_count": 2,
   "metadata": {
    "collapsed": false
   },
   "outputs": [
    {
     "data": {
      "text/plain": [
       "'/Users/riccardo/Dropbox/A-Workspace/Jupyter/Notebooks/3-Lezione 3 - Gumbel'"
      ]
     },
     "execution_count": 2,
     "metadata": {},
     "output_type": "execute_result"
    }
   ],
   "source": [
    "os.getcwd()"
   ]
  },
  {
   "cell_type": "code",
   "execution_count": 3,
   "metadata": {
    "collapsed": false
   },
   "outputs": [
    {
     "data": {
      "text/plain": [
       "['3.2 - Gumbel - Massima Verosimiglianza.ipynb',\n",
       " 'Calcolo dei parametri della curva di Gumbel - La curva di Gumbel.ipynb',\n",
       " '4-Test di Pearson.ipynb',\n",
       " '3.3 - Gumbel-MinimiQuadrati.ipynb',\n",
       " '.ipynb_checkpoints',\n",
       " '3.1 - Gumbel-Momenti.ipynb',\n",
       " '5b-Finally estimating the LSPP.ipynb']"
      ]
     },
     "execution_count": 3,
     "metadata": {},
     "output_type": "execute_result"
    }
   ],
   "source": [
    "os.listdir()"
   ]
  },
  {
   "cell_type": "code",
   "execution_count": 4,
   "metadata": {
    "collapsed": true
   },
   "outputs": [],
   "source": [
    "os.chdir(\"/Users/riccardo/Dropbox/A-Data/Paperopoli\")"
   ]
  },
  {
   "cell_type": "code",
   "execution_count": 5,
   "metadata": {
    "collapsed": false
   },
   "outputs": [
    {
     "data": {
      "text/plain": [
       "['abs_mle_right',\n",
       " 'abs_mle',\n",
       " 'abs_mq',\n",
       " 'PluviometriaPaperopoli_4.txt',\n",
       " 'best_param',\n",
       " 'abs_m',\n",
       " 'PluviometriaPaperopoli_2.txt',\n",
       " 'PluviometriaPaperopoli_3.txt']"
      ]
     },
     "execution_count": 5,
     "metadata": {},
     "output_type": "execute_result"
    }
   ],
   "source": [
    "os.listdir()"
   ]
  },
  {
   "cell_type": "code",
   "execution_count": 6,
   "metadata": {
    "collapsed": true
   },
   "outputs": [],
   "source": [
    "data = pd.read_csv('PluviometriaPaperopoli_4.txt')"
   ]
  },
  {
   "cell_type": "code",
   "execution_count": 7,
   "metadata": {
    "collapsed": true
   },
   "outputs": [],
   "source": [
    "map(datetime,data['anno'])\n",
    "data=data.set_index('anno')"
   ]
  },
  {
   "cell_type": "code",
   "execution_count": 8,
   "metadata": {
    "collapsed": false
   },
   "outputs": [
    {
     "data": {
      "text/html": [
       "<div>\n",
       "<style scoped>\n",
       "    .dataframe tbody tr th:only-of-type {\n",
       "        vertical-align: middle;\n",
       "    }\n",
       "\n",
       "    .dataframe tbody tr th {\n",
       "        vertical-align: top;\n",
       "    }\n",
       "\n",
       "    .dataframe thead th {\n",
       "        text-align: right;\n",
       "    }\n",
       "</style>\n",
       "<table border=\"1\" class=\"dataframe\">\n",
       "  <thead>\n",
       "    <tr style=\"text-align: right;\">\n",
       "      <th></th>\n",
       "      <th>1h</th>\n",
       "      <th>3h</th>\n",
       "      <th>6h</th>\n",
       "      <th>12h</th>\n",
       "      <th>24h</th>\n",
       "    </tr>\n",
       "    <tr>\n",
       "      <th>anno</th>\n",
       "      <th></th>\n",
       "      <th></th>\n",
       "      <th></th>\n",
       "      <th></th>\n",
       "      <th></th>\n",
       "    </tr>\n",
       "  </thead>\n",
       "  <tbody>\n",
       "    <tr>\n",
       "      <th>1925</th>\n",
       "      <td>50.0</td>\n",
       "      <td>NaN</td>\n",
       "      <td>NaN</td>\n",
       "      <td>NaN</td>\n",
       "      <td>NaN</td>\n",
       "    </tr>\n",
       "    <tr>\n",
       "      <th>1928</th>\n",
       "      <td>35.0</td>\n",
       "      <td>47.0</td>\n",
       "      <td>50.0</td>\n",
       "      <td>50.4</td>\n",
       "      <td>67.6</td>\n",
       "    </tr>\n",
       "    <tr>\n",
       "      <th>1929</th>\n",
       "      <td>35.4</td>\n",
       "      <td>36.4</td>\n",
       "      <td>36.4</td>\n",
       "      <td>49.6</td>\n",
       "      <td>74.0</td>\n",
       "    </tr>\n",
       "    <tr>\n",
       "      <th>1930</th>\n",
       "      <td>67.2</td>\n",
       "      <td>68.2</td>\n",
       "      <td>80.8</td>\n",
       "      <td>102.2</td>\n",
       "      <td>106.8</td>\n",
       "    </tr>\n",
       "    <tr>\n",
       "      <th>1931</th>\n",
       "      <td>25.2</td>\n",
       "      <td>NaN</td>\n",
       "      <td>NaN</td>\n",
       "      <td>NaN</td>\n",
       "      <td>NaN</td>\n",
       "    </tr>\n",
       "    <tr>\n",
       "      <th>1932</th>\n",
       "      <td>35.2</td>\n",
       "      <td>NaN</td>\n",
       "      <td>NaN</td>\n",
       "      <td>NaN</td>\n",
       "      <td>NaN</td>\n",
       "    </tr>\n",
       "    <tr>\n",
       "      <th>1934</th>\n",
       "      <td>48.6</td>\n",
       "      <td>NaN</td>\n",
       "      <td>NaN</td>\n",
       "      <td>NaN</td>\n",
       "      <td>NaN</td>\n",
       "    </tr>\n",
       "    <tr>\n",
       "      <th>1935</th>\n",
       "      <td>36.4</td>\n",
       "      <td>55.2</td>\n",
       "      <td>81.0</td>\n",
       "      <td>94.4</td>\n",
       "      <td>149.0</td>\n",
       "    </tr>\n",
       "    <tr>\n",
       "      <th>1936</th>\n",
       "      <td>47.8</td>\n",
       "      <td>54.2</td>\n",
       "      <td>55.4</td>\n",
       "      <td>55.6</td>\n",
       "      <td>74.6</td>\n",
       "    </tr>\n",
       "    <tr>\n",
       "      <th>1937</th>\n",
       "      <td>39.4</td>\n",
       "      <td>41.4</td>\n",
       "      <td>41.4</td>\n",
       "      <td>50.2</td>\n",
       "      <td>81.0</td>\n",
       "    </tr>\n",
       "    <tr>\n",
       "      <th>1938</th>\n",
       "      <td>21.4</td>\n",
       "      <td>NaN</td>\n",
       "      <td>NaN</td>\n",
       "      <td>NaN</td>\n",
       "      <td>NaN</td>\n",
       "    </tr>\n",
       "    <tr>\n",
       "      <th>1939</th>\n",
       "      <td>33.0</td>\n",
       "      <td>35.6</td>\n",
       "      <td>53.8</td>\n",
       "      <td>58.6</td>\n",
       "      <td>60.6</td>\n",
       "    </tr>\n",
       "    <tr>\n",
       "      <th>1940</th>\n",
       "      <td>42.0</td>\n",
       "      <td>48.2</td>\n",
       "      <td>48.6</td>\n",
       "      <td>48.8</td>\n",
       "      <td>55.2</td>\n",
       "    </tr>\n",
       "    <tr>\n",
       "      <th>1941</th>\n",
       "      <td>39.6</td>\n",
       "      <td>39.6</td>\n",
       "      <td>48.0</td>\n",
       "      <td>79.0</td>\n",
       "      <td>120.0</td>\n",
       "    </tr>\n",
       "    <tr>\n",
       "      <th>1942</th>\n",
       "      <td>28.0</td>\n",
       "      <td>32.8</td>\n",
       "      <td>44.4</td>\n",
       "      <td>50.0</td>\n",
       "      <td>64.8</td>\n",
       "    </tr>\n",
       "    <tr>\n",
       "      <th>1943</th>\n",
       "      <td>42.4</td>\n",
       "      <td>42.4</td>\n",
       "      <td>42.4</td>\n",
       "      <td>42.4</td>\n",
       "      <td>62.6</td>\n",
       "    </tr>\n",
       "    <tr>\n",
       "      <th>1944</th>\n",
       "      <td>21.2</td>\n",
       "      <td>24.8</td>\n",
       "      <td>31.0</td>\n",
       "      <td>47.0</td>\n",
       "      <td>48.2</td>\n",
       "    </tr>\n",
       "    <tr>\n",
       "      <th>1950</th>\n",
       "      <td>21.2</td>\n",
       "      <td>28.0</td>\n",
       "      <td>41.8</td>\n",
       "      <td>63.8</td>\n",
       "      <td>82.8</td>\n",
       "    </tr>\n",
       "    <tr>\n",
       "      <th>1951</th>\n",
       "      <td>19.6</td>\n",
       "      <td>39.4</td>\n",
       "      <td>60.0</td>\n",
       "      <td>82.6</td>\n",
       "      <td>127.6</td>\n",
       "    </tr>\n",
       "    <tr>\n",
       "      <th>1952</th>\n",
       "      <td>41.6</td>\n",
       "      <td>46.2</td>\n",
       "      <td>57.8</td>\n",
       "      <td>97.8</td>\n",
       "      <td>131.6</td>\n",
       "    </tr>\n",
       "    <tr>\n",
       "      <th>1955</th>\n",
       "      <td>51.0</td>\n",
       "      <td>30.8</td>\n",
       "      <td>50.4</td>\n",
       "      <td>79.0</td>\n",
       "      <td>93.8</td>\n",
       "    </tr>\n",
       "    <tr>\n",
       "      <th>1956</th>\n",
       "      <td>32.0</td>\n",
       "      <td>57.4</td>\n",
       "      <td>80.4</td>\n",
       "      <td>108.8</td>\n",
       "      <td>164.4</td>\n",
       "    </tr>\n",
       "    <tr>\n",
       "      <th>1957</th>\n",
       "      <td>27.4</td>\n",
       "      <td>35.0</td>\n",
       "      <td>36.4</td>\n",
       "      <td>38.2</td>\n",
       "      <td>58.4</td>\n",
       "    </tr>\n",
       "    <tr>\n",
       "      <th>1958</th>\n",
       "      <td>35.0</td>\n",
       "      <td>41.2</td>\n",
       "      <td>49.4</td>\n",
       "      <td>80.0</td>\n",
       "      <td>88.0</td>\n",
       "    </tr>\n",
       "    <tr>\n",
       "      <th>1959</th>\n",
       "      <td>21.6</td>\n",
       "      <td>55.6</td>\n",
       "      <td>82.2</td>\n",
       "      <td>129.6</td>\n",
       "      <td>169.4</td>\n",
       "    </tr>\n",
       "    <tr>\n",
       "      <th>1960</th>\n",
       "      <td>36.8</td>\n",
       "      <td>23.6</td>\n",
       "      <td>34.6</td>\n",
       "      <td>42.8</td>\n",
       "      <td>60.8</td>\n",
       "    </tr>\n",
       "    <tr>\n",
       "      <th>1961</th>\n",
       "      <td>54.2</td>\n",
       "      <td>65.2</td>\n",
       "      <td>86.6</td>\n",
       "      <td>115.6</td>\n",
       "      <td>122.4</td>\n",
       "    </tr>\n",
       "    <tr>\n",
       "      <th>1962</th>\n",
       "      <td>39.4</td>\n",
       "      <td>39.4</td>\n",
       "      <td>45.0</td>\n",
       "      <td>70.4</td>\n",
       "      <td>93.6</td>\n",
       "    </tr>\n",
       "    <tr>\n",
       "      <th>1963</th>\n",
       "      <td>30.6</td>\n",
       "      <td>42.2</td>\n",
       "      <td>42.2</td>\n",
       "      <td>51.2</td>\n",
       "      <td>58.8</td>\n",
       "    </tr>\n",
       "    <tr>\n",
       "      <th>1964</th>\n",
       "      <td>30.6</td>\n",
       "      <td>35.8</td>\n",
       "      <td>39.4</td>\n",
       "      <td>66.6</td>\n",
       "      <td>83.4</td>\n",
       "    </tr>\n",
       "    <tr>\n",
       "      <th>1965</th>\n",
       "      <td>33.0</td>\n",
       "      <td>45.0</td>\n",
       "      <td>46.6</td>\n",
       "      <td>71.8</td>\n",
       "      <td>100.6</td>\n",
       "    </tr>\n",
       "    <tr>\n",
       "      <th>1966</th>\n",
       "      <td>32.2</td>\n",
       "      <td>37.4</td>\n",
       "      <td>64.2</td>\n",
       "      <td>95.4</td>\n",
       "      <td>150.2</td>\n",
       "    </tr>\n",
       "    <tr>\n",
       "      <th>1967</th>\n",
       "      <td>38.4</td>\n",
       "      <td>47.2</td>\n",
       "      <td>56.0</td>\n",
       "      <td>65.6</td>\n",
       "      <td>68.2</td>\n",
       "    </tr>\n",
       "    <tr>\n",
       "      <th>1968</th>\n",
       "      <td>33.4</td>\n",
       "      <td>47.2</td>\n",
       "      <td>48.2</td>\n",
       "      <td>58.8</td>\n",
       "      <td>70.4</td>\n",
       "    </tr>\n",
       "    <tr>\n",
       "      <th>1969</th>\n",
       "      <td>31.0</td>\n",
       "      <td>39.4</td>\n",
       "      <td>42.4</td>\n",
       "      <td>53.2</td>\n",
       "      <td>64.2</td>\n",
       "    </tr>\n",
       "    <tr>\n",
       "      <th>1971</th>\n",
       "      <td>37.4</td>\n",
       "      <td>39.6</td>\n",
       "      <td>42.2</td>\n",
       "      <td>49.4</td>\n",
       "      <td>67.8</td>\n",
       "    </tr>\n",
       "    <tr>\n",
       "      <th>1972</th>\n",
       "      <td>36.8</td>\n",
       "      <td>40.6</td>\n",
       "      <td>40.8</td>\n",
       "      <td>41.0</td>\n",
       "      <td>49.2</td>\n",
       "    </tr>\n",
       "    <tr>\n",
       "      <th>1973</th>\n",
       "      <td>39.2</td>\n",
       "      <td>48.4</td>\n",
       "      <td>48.4</td>\n",
       "      <td>48.4</td>\n",
       "      <td>53.8</td>\n",
       "    </tr>\n",
       "    <tr>\n",
       "      <th>1974</th>\n",
       "      <td>29.4</td>\n",
       "      <td>34.0</td>\n",
       "      <td>40.0</td>\n",
       "      <td>69.0</td>\n",
       "      <td>112.2</td>\n",
       "    </tr>\n",
       "    <tr>\n",
       "      <th>1975</th>\n",
       "      <td>40.4</td>\n",
       "      <td>61.2</td>\n",
       "      <td>92.6</td>\n",
       "      <td>123.4</td>\n",
       "      <td>123.4</td>\n",
       "    </tr>\n",
       "    <tr>\n",
       "      <th>1976</th>\n",
       "      <td>37.6</td>\n",
       "      <td>62.2</td>\n",
       "      <td>75.8</td>\n",
       "      <td>83.6</td>\n",
       "      <td>83.6</td>\n",
       "    </tr>\n",
       "    <tr>\n",
       "      <th>1977</th>\n",
       "      <td>30.4</td>\n",
       "      <td>40.6</td>\n",
       "      <td>70.6</td>\n",
       "      <td>87.8</td>\n",
       "      <td>90.6</td>\n",
       "    </tr>\n",
       "    <tr>\n",
       "      <th>1978</th>\n",
       "      <td>44.0</td>\n",
       "      <td>61.2</td>\n",
       "      <td>69.0</td>\n",
       "      <td>83.8</td>\n",
       "      <td>92.2</td>\n",
       "    </tr>\n",
       "    <tr>\n",
       "      <th>1979</th>\n",
       "      <td>38.6</td>\n",
       "      <td>52.8</td>\n",
       "      <td>54.8</td>\n",
       "      <td>70.2</td>\n",
       "      <td>84.2</td>\n",
       "    </tr>\n",
       "    <tr>\n",
       "      <th>1980</th>\n",
       "      <td>28.2</td>\n",
       "      <td>42.4</td>\n",
       "      <td>71.4</td>\n",
       "      <td>97.4</td>\n",
       "      <td>107.4</td>\n",
       "    </tr>\n",
       "    <tr>\n",
       "      <th>1984</th>\n",
       "      <td>61.2</td>\n",
       "      <td>61.4</td>\n",
       "      <td>61.4</td>\n",
       "      <td>62.6</td>\n",
       "      <td>81.8</td>\n",
       "    </tr>\n",
       "    <tr>\n",
       "      <th>1985</th>\n",
       "      <td>23.6</td>\n",
       "      <td>35.6</td>\n",
       "      <td>44.2</td>\n",
       "      <td>58.6</td>\n",
       "      <td>69.8</td>\n",
       "    </tr>\n",
       "    <tr>\n",
       "      <th>1986</th>\n",
       "      <td>20.2</td>\n",
       "      <td>36.8</td>\n",
       "      <td>51.4</td>\n",
       "      <td>55.8</td>\n",
       "      <td>74.4</td>\n",
       "    </tr>\n",
       "    <tr>\n",
       "      <th>1987</th>\n",
       "      <td>32.6</td>\n",
       "      <td>40.6</td>\n",
       "      <td>64.6</td>\n",
       "      <td>77.2</td>\n",
       "      <td>81.2</td>\n",
       "    </tr>\n",
       "    <tr>\n",
       "      <th>1988</th>\n",
       "      <td>89.2</td>\n",
       "      <td>102.0</td>\n",
       "      <td>102.0</td>\n",
       "      <td>102.0</td>\n",
       "      <td>104.2</td>\n",
       "    </tr>\n",
       "  </tbody>\n",
       "</table>\n",
       "</div>"
      ],
      "text/plain": [
       "        1h     3h     6h    12h    24h\n",
       "anno                                  \n",
       "1925  50.0    NaN    NaN    NaN    NaN\n",
       "1928  35.0   47.0   50.0   50.4   67.6\n",
       "1929  35.4   36.4   36.4   49.6   74.0\n",
       "1930  67.2   68.2   80.8  102.2  106.8\n",
       "1931  25.2    NaN    NaN    NaN    NaN\n",
       "1932  35.2    NaN    NaN    NaN    NaN\n",
       "1934  48.6    NaN    NaN    NaN    NaN\n",
       "1935  36.4   55.2   81.0   94.4  149.0\n",
       "1936  47.8   54.2   55.4   55.6   74.6\n",
       "1937  39.4   41.4   41.4   50.2   81.0\n",
       "1938  21.4    NaN    NaN    NaN    NaN\n",
       "1939  33.0   35.6   53.8   58.6   60.6\n",
       "1940  42.0   48.2   48.6   48.8   55.2\n",
       "1941  39.6   39.6   48.0   79.0  120.0\n",
       "1942  28.0   32.8   44.4   50.0   64.8\n",
       "1943  42.4   42.4   42.4   42.4   62.6\n",
       "1944  21.2   24.8   31.0   47.0   48.2\n",
       "1950  21.2   28.0   41.8   63.8   82.8\n",
       "1951  19.6   39.4   60.0   82.6  127.6\n",
       "1952  41.6   46.2   57.8   97.8  131.6\n",
       "1955  51.0   30.8   50.4   79.0   93.8\n",
       "1956  32.0   57.4   80.4  108.8  164.4\n",
       "1957  27.4   35.0   36.4   38.2   58.4\n",
       "1958  35.0   41.2   49.4   80.0   88.0\n",
       "1959  21.6   55.6   82.2  129.6  169.4\n",
       "1960  36.8   23.6   34.6   42.8   60.8\n",
       "1961  54.2   65.2   86.6  115.6  122.4\n",
       "1962  39.4   39.4   45.0   70.4   93.6\n",
       "1963  30.6   42.2   42.2   51.2   58.8\n",
       "1964  30.6   35.8   39.4   66.6   83.4\n",
       "1965  33.0   45.0   46.6   71.8  100.6\n",
       "1966  32.2   37.4   64.2   95.4  150.2\n",
       "1967  38.4   47.2   56.0   65.6   68.2\n",
       "1968  33.4   47.2   48.2   58.8   70.4\n",
       "1969  31.0   39.4   42.4   53.2   64.2\n",
       "1971  37.4   39.6   42.2   49.4   67.8\n",
       "1972  36.8   40.6   40.8   41.0   49.2\n",
       "1973  39.2   48.4   48.4   48.4   53.8\n",
       "1974  29.4   34.0   40.0   69.0  112.2\n",
       "1975  40.4   61.2   92.6  123.4  123.4\n",
       "1976  37.6   62.2   75.8   83.6   83.6\n",
       "1977  30.4   40.6   70.6   87.8   90.6\n",
       "1978  44.0   61.2   69.0   83.8   92.2\n",
       "1979  38.6   52.8   54.8   70.2   84.2\n",
       "1980  28.2   42.4   71.4   97.4  107.4\n",
       "1984  61.2   61.4   61.4   62.6   81.8\n",
       "1985  23.6   35.6   44.2   58.6   69.8\n",
       "1986  20.2   36.8   51.4   55.8   74.4\n",
       "1987  32.6   40.6   64.6   77.2   81.2\n",
       "1988  89.2  102.0  102.0  102.0  104.2"
      ]
     },
     "execution_count": 8,
     "metadata": {},
     "output_type": "execute_result"
    }
   ],
   "source": [
    "data"
   ]
  },
  {
   "cell_type": "code",
   "execution_count": 9,
   "metadata": {
    "collapsed": true
   },
   "outputs": [
    {
     "data": {
      "text/plain": [
       "\u001b[0;31mType:\u001b[0m        DataFrame\n",
       "\u001b[0;31mString form:\u001b[0m\n",
       "1h     3h     6h    12h    24h\n",
       "           anno\n",
       "           1925  50.0    NaN   <...>  51.4   55.8   74.4\n",
       "           1987  32.6   40.6   64.6   77.2   81.2\n",
       "           1988  89.2  102.0  102.0  102.0  104.2\n",
       "\u001b[0;31mLength:\u001b[0m      50\n",
       "\u001b[0;31mFile:\u001b[0m        /Applications/anaconda/envs/labx/lib/python3.7/site-packages/pandas/core/frame.py\n",
       "\u001b[0;31mDocstring:\u001b[0m  \n",
       "Two-dimensional size-mutable, potentially heterogeneous tabular data\n",
       "structure with labeled axes (rows and columns). Arithmetic operations\n",
       "align on both row and column labels. Can be thought of as a dict-like\n",
       "container for Series objects. The primary pandas data structure.\n",
       "\n",
       "Parameters\n",
       "----------\n",
       "data : numpy ndarray (structured or homogeneous), dict, or DataFrame\n",
       "    Dict can contain Series, arrays, constants, or list-like objects\n",
       "\n",
       "    .. versionchanged :: 0.23.0\n",
       "       If data is a dict, argument order is maintained for Python 3.6\n",
       "       and later.\n",
       "\n",
       "index : Index or array-like\n",
       "    Index to use for resulting frame. Will default to RangeIndex if\n",
       "    no indexing information part of input data and no index provided\n",
       "columns : Index or array-like\n",
       "    Column labels to use for resulting frame. Will default to\n",
       "    RangeIndex (0, 1, 2, ..., n) if no column labels are provided\n",
       "dtype : dtype, default None\n",
       "    Data type to force. Only a single dtype is allowed. If None, infer\n",
       "copy : boolean, default False\n",
       "    Copy data from inputs. Only affects DataFrame / 2d ndarray input\n",
       "\n",
       "Examples\n",
       "--------\n",
       "Constructing DataFrame from a dictionary.\n",
       "\n",
       ">>> d = {'col1': [1, 2], 'col2': [3, 4]}\n",
       ">>> df = pd.DataFrame(data=d)\n",
       ">>> df\n",
       "   col1  col2\n",
       "0     1     3\n",
       "1     2     4\n",
       "\n",
       "Notice that the inferred dtype is int64.\n",
       "\n",
       ">>> df.dtypes\n",
       "col1    int64\n",
       "col2    int64\n",
       "dtype: object\n",
       "\n",
       "To enforce a single dtype:\n",
       "\n",
       ">>> df = pd.DataFrame(data=d, dtype=np.int8)\n",
       ">>> df.dtypes\n",
       "col1    int8\n",
       "col2    int8\n",
       "dtype: object\n",
       "\n",
       "Constructing DataFrame from numpy ndarray:\n",
       "\n",
       ">>> df2 = pd.DataFrame(np.random.randint(low=0, high=10, size=(5, 5)),\n",
       "...                    columns=['a', 'b', 'c', 'd', 'e'])\n",
       ">>> df2\n",
       "    a   b   c   d   e\n",
       "0   2   8   8   3   4\n",
       "1   4   2   9   0   9\n",
       "2   1   0   7   8   0\n",
       "3   5   1   7   1   3\n",
       "4   6   0   2   4   2\n",
       "\n",
       "See also\n",
       "--------\n",
       "DataFrame.from_records : constructor from tuples, also record arrays\n",
       "DataFrame.from_dict : from dicts of Series, arrays, or dicts\n",
       "DataFrame.from_items : from sequence of (key, value) pairs\n",
       "pandas.read_csv, pandas.read_table, pandas.read_clipboard\n"
      ]
     },
     "metadata": {},
     "output_type": "display_data"
    }
   ],
   "source": [
    "?data"
   ]
  },
  {
   "cell_type": "code",
   "execution_count": 10,
   "metadata": {
    "collapsed": false
   },
   "outputs": [
    {
     "data": {
      "text/plain": [
       "1h     36.912000\n",
       "3h     45.360000\n",
       "6h     55.688889\n",
       "12h    71.324444\n",
       "24h    89.528889\n",
       "dtype: float64"
      ]
     },
     "execution_count": 10,
     "metadata": {},
     "output_type": "execute_result"
    }
   ],
   "source": [
    "means=data.mean()\n",
    "means"
   ]
  },
  {
   "cell_type": "code",
   "execution_count": 11,
   "metadata": {
    "collapsed": false
   },
   "outputs": [
    {
     "data": {
      "text/plain": [
       "Text(0, 0.5, 'Rainfall (mm)')"
      ]
     },
     "execution_count": 11,
     "metadata": {},
     "output_type": "execute_result"
    },
    {
     "data": {
      "image/png": "[encoded data removed]",
      "text/plain": [
       "<Figure size 432x288 with 1 Axes>"
      ]
     },
     "metadata": {
      "needs_background": "light"
     },
     "output_type": "display_data"
    }
   ],
   "source": [
    "ax=means.plot()\n",
    "ax.grid(True)\n",
    "#ax.legend(loc='right')\n",
    "ax.set_title('Mean Precipitation over years')\n",
    "ax.set_xlabel('Duration')\n",
    "ax.set_ylabel('Rainfall (mm)')"
   ]
  },
  {
   "cell_type": "code",
   "execution_count": 12,
   "metadata": {
    "collapsed": false
   },
   "outputs": [
    {
     "data": {
      "text/plain": [
       "1h     158.739853\n",
       "3h     188.130182\n",
       "6h     289.751919\n",
       "12h    551.671434\n",
       "24h    946.383919\n",
       "dtype: float64"
      ]
     },
     "execution_count": 12,
     "metadata": {},
     "output_type": "execute_result"
    }
   ],
   "source": [
    "variances=data.var()\n",
    "variances"
   ]
  },
  {
   "cell_type": "code",
   "execution_count": 13,
   "metadata": {
    "collapsed": false
   },
   "outputs": [
    {
     "data": {
      "text/plain": [
       "<matplotlib.axes._subplots.AxesSubplot at 0x11fa2a390>"
      ]
     },
     "execution_count": 13,
     "metadata": {},
     "output_type": "execute_result"
    },
    {
     "data": {
      "image/png": "[encoded data removed]",
      "text/plain": [
       "<Figure size 432x288 with 1 Axes>"
      ]
     },
     "metadata": {
      "needs_background": "light"
     },
     "output_type": "display_data"
    }
   ],
   "source": [
    "variances.plot()"
   ]
  },
  {
   "cell_type": "code",
   "execution_count": 14,
   "metadata": {
    "collapsed": false
   },
   "outputs": [
    {
     "data": {
      "text/plain": [
       "1h     12.599200\n",
       "3h     13.716056\n",
       "6h     17.022101\n",
       "12h    23.487687\n",
       "24h    30.763354\n",
       "dtype: float64"
      ]
     },
     "execution_count": 14,
     "metadata": {},
     "output_type": "execute_result"
    }
   ],
   "source": [
    "stds=data.std()\n",
    "stds"
   ]
  },
  {
   "cell_type": "code",
   "execution_count": 15,
   "metadata": {
    "collapsed": false
   },
   "outputs": [
    {
     "data": {
      "text/plain": [
       "1h     0.341331\n",
       "3h     0.302382\n",
       "6h     0.305664\n",
       "12h    0.329308\n",
       "24h    0.343614\n",
       "dtype: float64"
      ]
     },
     "execution_count": 15,
     "metadata": {},
     "output_type": "execute_result"
    }
   ],
   "source": [
    "cv=data.std()/means\n",
    "cv"
   ]
  },
  {
   "cell_type": "code",
   "execution_count": 16,
   "metadata": {
    "collapsed": false
   },
   "outputs": [
    {
     "data": {
      "text/plain": [
       "<matplotlib.axes._subplots.AxesSubplot at 0x11c2177b8>"
      ]
     },
     "execution_count": 16,
     "metadata": {},
     "output_type": "execute_result"
    },
    {
     "data": {
      "image/png": "[encoded data removed]",
      "text/plain": [
       "<matplotlib.figure.Figure at 0x11c22a7b8>"
      ]
     },
     "metadata": {},
     "output_type": "display_data"
    }
   ],
   "source": [
    "cv.plot()"
   ]
  },
  {
   "cell_type": "markdown",
   "metadata": {},
   "source": [
    "Il metodo dei momenti si riduce alla risoluzione di:\n",
    "\\begin{equation}\n",
    "\\left\\{\n",
    "\\begin{array}{l}\n",
    "b \\gamma + a = \\mu_H \\\\\n",
    "\\sigma^2_H = b^2  \\frac{\\pi^2}{6}\n",
    "\\end{array}\n",
    "\\right.\n",
    "\\end{equation}\n",
    "dove $a$ e $b$ sono i parametri da stimare $mu_H$ è la media del campioni di dati e $\\sigma_H$ è la deviazione standard dei medesimi dati. \n",
    "Dalla seconda equazione si ricava:\n",
    "\\begin{equation}\n",
    "b = \\frac{\\sqrt{6}}{\\pi} \\sigma_H\n",
    "\\end{equation}\n",
    "che, sostituito nella prima equazione, dà:\n",
    "\\begin{equation}\n",
    "a = \\mu_H -\\frac{\\sqrt{6}\\gamma}{\\pi} \\sigma_H \n",
    "\\end{equation}"
   ]
  },
  {
   "cell_type": "code",
   "execution_count": 17,
   "metadata": {
    "collapsed": false
   },
   "outputs": [],
   "source": [
    "gino=math.sqrt(6)/math.pi"
   ]
  },
  {
   "cell_type": "code",
   "execution_count": 18,
   "metadata": {
    "collapsed": false
   },
   "outputs": [
    {
     "data": {
      "text/plain": [
       "0.4500532075456946"
      ]
     },
     "execution_count": 18,
     "metadata": {},
     "output_type": "execute_result"
    }
   ],
   "source": [
    "EulerGamma=0.577215664901532860606512090\n",
    "gino*EulerGamma"
   ]
  },
  {
   "cell_type": "code",
   "execution_count": 19,
   "metadata": {
    "collapsed": true
   },
   "outputs": [],
   "source": [
    "def g(m,s):\n",
    "    return pd.DataFrame([m-0.4500532075456946*s,0.779696801233676*s],index=[\"a\",\"b\"])"
   ]
  },
  {
   "cell_type": "code",
   "execution_count": 20,
   "metadata": {
    "collapsed": false
   },
   "outputs": [
    {
     "data": {
      "text/html": [
       "<div>\n",
       "<table border=\"1\" class=\"dataframe\">\n",
       "  <thead>\n",
       "    <tr style=\"text-align: right;\">\n",
       "      <th></th>\n",
       "      <th>1h</th>\n",
       "      <th>3h</th>\n",
       "      <th>6h</th>\n",
       "      <th>12h</th>\n",
       "      <th>24h</th>\n",
       "    </tr>\n",
       "  </thead>\n",
       "  <tbody>\n",
       "    <tr>\n",
       "      <th>a</th>\n",
       "      <td>31.241689</td>\n",
       "      <td>39.187045</td>\n",
       "      <td>48.028038</td>\n",
       "      <td>60.753736</td>\n",
       "      <td>75.683743</td>\n",
       "    </tr>\n",
       "    <tr>\n",
       "      <th>b</th>\n",
       "      <td>9.823556</td>\n",
       "      <td>10.694365</td>\n",
       "      <td>13.272078</td>\n",
       "      <td>18.313274</td>\n",
       "      <td>23.986088</td>\n",
       "    </tr>\n",
       "  </tbody>\n",
       "</table>\n",
       "</div>"
      ],
      "text/plain": [
       "          1h         3h         6h        12h        24h\n",
       "a  31.241689  39.187045  48.028038  60.753736  75.683743\n",
       "b   9.823556  10.694365  13.272078  18.313274  23.986088"
      ]
     },
     "execution_count": 20,
     "metadata": {},
     "output_type": "execute_result"
    }
   ],
   "source": [
    "abs_m=g(means,stds)\n",
    "abs_m"
   ]
  },
  {
   "cell_type": "markdown",
   "metadata": {},
   "source": [
    "Adesso si tratta di disegnare le curve di Gumbel con i diversi parametri (matplotlib è già caricato). "
   ]
  },
  {
   "cell_type": "markdown",
   "metadata": {},
   "source": [
    "http://stackoverflow.com/questions/17098654/how-to-store-data-frame-using-pandas-python"
   ]
  },
  {
   "cell_type": "code",
   "execution_count": 21,
   "metadata": {
    "collapsed": true
   },
   "outputs": [],
   "source": [
    "abs_m.to_pickle(\"abs_m\")"
   ]
  },
  {
   "cell_type": "code",
   "execution_count": 22,
   "metadata": {
    "collapsed": true
   },
   "outputs": [],
   "source": [
    "from scipy.stats import genextreme,gumbel_r\n",
    "from numpy import linspace"
   ]
  },
  {
   "cell_type": "code",
   "execution_count": 23,
   "metadata": {
    "collapsed": true
   },
   "outputs": [],
   "source": [
    "def gumbel(x,abs_d,col):\n",
    "    return np.exp(-np.exp(-(x-abs_d[col][\"a\"])/abs_d[col][\"b\"]))"
   ]
  },
  {
   "cell_type": "code",
   "execution_count": 24,
   "metadata": {
    "collapsed": true
   },
   "outputs": [],
   "source": [
    "from statsmodels.distributions.empirical_distribution import ECDF"
   ]
  },
  {
   "cell_type": "code",
   "execution_count": 25,
   "metadata": {
    "collapsed": true
   },
   "outputs": [],
   "source": [
    "ecdf1h = ECDF(data[\"1h\"])"
   ]
  },
  {
   "cell_type": "code",
   "execution_count": 26,
   "metadata": {
    "collapsed": false
   },
   "outputs": [
    {
     "data": {
      "text/plain": [
       "<statsmodels.distributions.empirical_distribution.ECDF at 0x11e2f85f8>"
      ]
     },
     "execution_count": 26,
     "metadata": {},
     "output_type": "execute_result"
    }
   ],
   "source": [
    "ecdf1h"
   ]
  },
  {
   "cell_type": "markdown",
   "metadata": {},
   "source": [
    "Questa azione merita un minimo di progettazione. Vogliamo disegnare un grafico in cui si sovrappongono dati e curve interpolate. Per fare questo vogliamo costruire un DataFrame che contiene tutte le curve interpolate. Al quale poi aggiungiamo, una ad una i punti interpolati"
   ]
  },
  {
   "cell_type": "code",
   "execution_count": 28,
   "metadata": {
    "collapsed": false
   },
   "outputs": [
    {
     "data": {
      "text/plain": [
       "19.600000000000001"
      ]
     },
     "execution_count": 28,
     "metadata": {},
     "output_type": "execute_result"
    }
   ],
   "source": [
    "data.min()[0]"
   ]
  },
  {
   "cell_type": "code",
   "execution_count": 35,
   "metadata": {
    "collapsed": false
   },
   "outputs": [
    {
     "data": {
      "text/plain": [
       "<pandas.core.indexing._LocIndexer at 0x11f739550>"
      ]
     },
     "execution_count": 35,
     "metadata": {},
     "output_type": "execute_result"
    }
   ],
   "source": [
    "data.min().loc(\"1h\")"
   ]
  },
  {
   "cell_type": "code",
   "execution_count": 29,
   "metadata": {
    "collapsed": false
   },
   "outputs": [
    {
     "data": {
      "text/plain": [
       "169.40000000000001"
      ]
     },
     "execution_count": 29,
     "metadata": {},
     "output_type": "execute_result"
    }
   ],
   "source": [
    "data.max()[4]"
   ]
  },
  {
   "cell_type": "code",
   "execution_count": 30,
   "metadata": {
    "collapsed": false
   },
   "outputs": [],
   "source": [
    "t_rain=np.linspace(data.min()[0],data.max()[4],100)"
   ]
  },
  {
   "cell_type": "code",
   "execution_count": 33,
   "metadata": {
    "collapsed": false,
    "scrolled": false
   },
   "outputs": [
    {
     "data": {
      "text/html": [
       "<div>\n",
       "<table border=\"1\" class=\"dataframe\">\n",
       "  <thead>\n",
       "    <tr style=\"text-align: right;\">\n",
       "      <th></th>\n",
       "      <th>1h</th>\n",
       "      <th>3h</th>\n",
       "      <th>6h</th>\n",
       "      <th>12h</th>\n",
       "      <th>24</th>\n",
       "    </tr>\n",
       "  </thead>\n",
       "  <tbody>\n",
       "    <tr>\n",
       "      <th>19.600000</th>\n",
       "      <td>0.037971</td>\n",
       "      <td>0.001943</td>\n",
       "      <td>0.000200</td>\n",
       "      <td>0.000078</td>\n",
       "      <td>0.000032</td>\n",
       "    </tr>\n",
       "    <tr>\n",
       "      <th>21.113131</th>\n",
       "      <td>0.060567</td>\n",
       "      <td>0.004428</td>\n",
       "      <td>0.000501</td>\n",
       "      <td>0.000165</td>\n",
       "      <td>0.000060</td>\n",
       "    </tr>\n",
       "    <tr>\n",
       "      <th>22.626263</th>\n",
       "      <td>0.090381</td>\n",
       "      <td>0.009053</td>\n",
       "      <td>0.001137</td>\n",
       "      <td>0.000329</td>\n",
       "      <td>0.000108</td>\n",
       "    </tr>\n",
       "    <tr>\n",
       "      <th>24.139394</th>\n",
       "      <td>0.127380</td>\n",
       "      <td>0.016841</td>\n",
       "      <td>0.002360</td>\n",
       "      <td>0.000621</td>\n",
       "      <td>0.000189</td>\n",
       "    </tr>\n",
       "    <tr>\n",
       "      <th>25.652525</th>\n",
       "      <td>0.170944</td>\n",
       "      <td>0.028865</td>\n",
       "      <td>0.004529</td>\n",
       "      <td>0.001115</td>\n",
       "      <td>0.000319</td>\n",
       "    </tr>\n",
       "    <tr>\n",
       "      <th>27.165657</th>\n",
       "      <td>0.219972</td>\n",
       "      <td>0.046079</td>\n",
       "      <td>0.008101</td>\n",
       "      <td>0.001912</td>\n",
       "      <td>0.000521</td>\n",
       "    </tr>\n",
       "    <tr>\n",
       "      <th>28.678788</th>\n",
       "      <td>0.273053</td>\n",
       "      <td>0.069156</td>\n",
       "      <td>0.013611</td>\n",
       "      <td>0.003142</td>\n",
       "      <td>0.000828</td>\n",
       "    </tr>\n",
       "    <tr>\n",
       "      <th>30.191919</th>\n",
       "      <td>0.328644</td>\n",
       "      <td>0.098378</td>\n",
       "      <td>0.021625</td>\n",
       "      <td>0.004962</td>\n",
       "      <td>0.001277</td>\n",
       "    </tr>\n",
       "    <tr>\n",
       "      <th>31.705051</th>\n",
       "      <td>0.385225</td>\n",
       "      <td>0.133589</td>\n",
       "      <td>0.032686</td>\n",
       "      <td>0.007558</td>\n",
       "      <td>0.001919</td>\n",
       "    </tr>\n",
       "    <tr>\n",
       "      <th>33.218182</th>\n",
       "      <td>0.441424</td>\n",
       "      <td>0.174226</td>\n",
       "      <td>0.047254</td>\n",
       "      <td>0.011134</td>\n",
       "      <td>0.002813</td>\n",
       "    </tr>\n",
       "    <tr>\n",
       "      <th>34.731313</th>\n",
       "      <td>0.496083</td>\n",
       "      <td>0.219400</td>\n",
       "      <td>0.065655</td>\n",
       "      <td>0.015905</td>\n",
       "      <td>0.004029</td>\n",
       "    </tr>\n",
       "    <tr>\n",
       "      <th>36.244444</th>\n",
       "      <td>0.548296</td>\n",
       "      <td>0.268009</td>\n",
       "      <td>0.088046</td>\n",
       "      <td>0.022089</td>\n",
       "      <td>0.005644</td>\n",
       "    </tr>\n",
       "    <tr>\n",
       "      <th>37.757576</th>\n",
       "      <td>0.597409</td>\n",
       "      <td>0.318858</td>\n",
       "      <td>0.114398</td>\n",
       "      <td>0.029887</td>\n",
       "      <td>0.007745</td>\n",
       "    </tr>\n",
       "    <tr>\n",
       "      <th>39.270707</th>\n",
       "      <td>0.642999</td>\n",
       "      <td>0.370757</td>\n",
       "      <td>0.144501</td>\n",
       "      <td>0.039481</td>\n",
       "      <td>0.010426</td>\n",
       "    </tr>\n",
       "    <tr>\n",
       "      <th>40.783838</th>\n",
       "      <td>0.684840</td>\n",
       "      <td>0.422612</td>\n",
       "      <td>0.177990</td>\n",
       "      <td>0.051015</td>\n",
       "      <td>0.013780</td>\n",
       "    </tr>\n",
       "    <tr>\n",
       "      <th>42.296970</th>\n",
       "      <td>0.722869</td>\n",
       "      <td>0.473471</td>\n",
       "      <td>0.214371</td>\n",
       "      <td>0.064592</td>\n",
       "      <td>0.017907</td>\n",
       "    </tr>\n",
       "    <tr>\n",
       "      <th>43.810101</th>\n",
       "      <td>0.757146</td>\n",
       "      <td>0.522557</td>\n",
       "      <td>0.253065</td>\n",
       "      <td>0.080267</td>\n",
       "      <td>0.022899</td>\n",
       "    </tr>\n",
       "    <tr>\n",
       "      <th>45.323232</th>\n",
       "      <td>0.787820</td>\n",
       "      <td>0.569274</td>\n",
       "      <td>0.293450</td>\n",
       "      <td>0.098042</td>\n",
       "      <td>0.028846</td>\n",
       "    </tr>\n",
       "    <tr>\n",
       "      <th>46.836364</th>\n",
       "      <td>0.815103</td>\n",
       "      <td>0.613201</td>\n",
       "      <td>0.334894</td>\n",
       "      <td>0.117868</td>\n",
       "      <td>0.035829</td>\n",
       "    </tr>\n",
       "    <tr>\n",
       "      <th>48.349495</th>\n",
       "      <td>0.839242</td>\n",
       "      <td>0.654072</td>\n",
       "      <td>0.376789</td>\n",
       "      <td>0.139649</td>\n",
       "      <td>0.043916</td>\n",
       "    </tr>\n",
       "    <tr>\n",
       "      <th>49.862626</th>\n",
       "      <td>0.860504</td>\n",
       "      <td>0.691753</td>\n",
       "      <td>0.418575</td>\n",
       "      <td>0.163244</td>\n",
       "      <td>0.053162</td>\n",
       "    </tr>\n",
       "    <tr>\n",
       "      <th>51.375758</th>\n",
       "      <td>0.879158</td>\n",
       "      <td>0.726218</td>\n",
       "      <td>0.459756</td>\n",
       "      <td>0.188479</td>\n",
       "      <td>0.063609</td>\n",
       "    </tr>\n",
       "    <tr>\n",
       "      <th>52.888889</th>\n",
       "      <td>0.895472</td>\n",
       "      <td>0.757526</td>\n",
       "      <td>0.499908</td>\n",
       "      <td>0.215148</td>\n",
       "      <td>0.075277</td>\n",
       "    </tr>\n",
       "    <tr>\n",
       "      <th>54.402020</th>\n",
       "      <td>0.909697</td>\n",
       "      <td>0.785795</td>\n",
       "      <td>0.538684</td>\n",
       "      <td>0.243026</td>\n",
       "      <td>0.088173</td>\n",
       "    </tr>\n",
       "    <tr>\n",
       "      <th>55.915152</th>\n",
       "      <td>0.922071</td>\n",
       "      <td>0.811188</td>\n",
       "      <td>0.575815</td>\n",
       "      <td>0.271877</td>\n",
       "      <td>0.102286</td>\n",
       "    </tr>\n",
       "    <tr>\n",
       "      <th>57.428283</th>\n",
       "      <td>0.932812</td>\n",
       "      <td>0.833895</td>\n",
       "      <td>0.611100</td>\n",
       "      <td>0.301460</td>\n",
       "      <td>0.117584</td>\n",
       "    </tr>\n",
       "    <tr>\n",
       "      <th>58.941414</th>\n",
       "      <td>0.942120</td>\n",
       "      <td>0.854121</td>\n",
       "      <td>0.644405</td>\n",
       "      <td>0.331534</td>\n",
       "      <td>0.134025</td>\n",
       "    </tr>\n",
       "    <tr>\n",
       "      <th>60.454545</th>\n",
       "      <td>0.950173</td>\n",
       "      <td>0.872076</td>\n",
       "      <td>0.675650</td>\n",
       "      <td>0.361870</td>\n",
       "      <td>0.151546</td>\n",
       "    </tr>\n",
       "    <tr>\n",
       "      <th>61.967677</th>\n",
       "      <td>0.957131</td>\n",
       "      <td>0.887968</td>\n",
       "      <td>0.704805</td>\n",
       "      <td>0.392248</td>\n",
       "      <td>0.170075</td>\n",
       "    </tr>\n",
       "    <tr>\n",
       "      <th>63.480808</th>\n",
       "      <td>0.963137</td>\n",
       "      <td>0.901998</td>\n",
       "      <td>0.731880</td>\n",
       "      <td>0.422467</td>\n",
       "      <td>0.189529</td>\n",
       "    </tr>\n",
       "    <tr>\n",
       "      <th>...</th>\n",
       "      <td>...</td>\n",
       "      <td>...</td>\n",
       "      <td>...</td>\n",
       "      <td>...</td>\n",
       "      <td>...</td>\n",
       "    </tr>\n",
       "    <tr>\n",
       "      <th>125.519192</th>\n",
       "      <td>0.999932</td>\n",
       "      <td>0.999688</td>\n",
       "      <td>0.997091</td>\n",
       "      <td>0.971306</td>\n",
       "      <td>0.882303</td>\n",
       "    </tr>\n",
       "    <tr>\n",
       "      <th>127.032323</th>\n",
       "      <td>0.999942</td>\n",
       "      <td>0.999729</td>\n",
       "      <td>0.997404</td>\n",
       "      <td>0.973551</td>\n",
       "      <td>0.889083</td>\n",
       "    </tr>\n",
       "    <tr>\n",
       "      <th>128.545455</th>\n",
       "      <td>0.999950</td>\n",
       "      <td>0.999765</td>\n",
       "      <td>0.997684</td>\n",
       "      <td>0.975623</td>\n",
       "      <td>0.895496</td>\n",
       "    </tr>\n",
       "    <tr>\n",
       "      <th>130.058586</th>\n",
       "      <td>0.999957</td>\n",
       "      <td>0.999796</td>\n",
       "      <td>0.997933</td>\n",
       "      <td>0.977534</td>\n",
       "      <td>0.901559</td>\n",
       "    </tr>\n",
       "    <tr>\n",
       "      <th>131.571717</th>\n",
       "      <td>0.999963</td>\n",
       "      <td>0.999823</td>\n",
       "      <td>0.998156</td>\n",
       "      <td>0.979297</td>\n",
       "      <td>0.907289</td>\n",
       "    </tr>\n",
       "    <tr>\n",
       "      <th>133.084848</th>\n",
       "      <td>0.999969</td>\n",
       "      <td>0.999846</td>\n",
       "      <td>0.998354</td>\n",
       "      <td>0.980923</td>\n",
       "      <td>0.912702</td>\n",
       "    </tr>\n",
       "    <tr>\n",
       "      <th>134.597980</th>\n",
       "      <td>0.999973</td>\n",
       "      <td>0.999867</td>\n",
       "      <td>0.998531</td>\n",
       "      <td>0.982422</td>\n",
       "      <td>0.917813</td>\n",
       "    </tr>\n",
       "    <tr>\n",
       "      <th>136.111111</th>\n",
       "      <td>0.999977</td>\n",
       "      <td>0.999884</td>\n",
       "      <td>0.998690</td>\n",
       "      <td>0.983805</td>\n",
       "      <td>0.922638</td>\n",
       "    </tr>\n",
       "    <tr>\n",
       "      <th>137.624242</th>\n",
       "      <td>0.999980</td>\n",
       "      <td>0.999899</td>\n",
       "      <td>0.998831</td>\n",
       "      <td>0.985080</td>\n",
       "      <td>0.927191</td>\n",
       "    </tr>\n",
       "    <tr>\n",
       "      <th>139.137374</th>\n",
       "      <td>0.999983</td>\n",
       "      <td>0.999913</td>\n",
       "      <td>0.998957</td>\n",
       "      <td>0.986255</td>\n",
       "      <td>0.931486</td>\n",
       "    </tr>\n",
       "    <tr>\n",
       "      <th>140.650505</th>\n",
       "      <td>0.999985</td>\n",
       "      <td>0.999924</td>\n",
       "      <td>0.999069</td>\n",
       "      <td>0.987338</td>\n",
       "      <td>0.935536</td>\n",
       "    </tr>\n",
       "    <tr>\n",
       "      <th>142.163636</th>\n",
       "      <td>0.999988</td>\n",
       "      <td>0.999934</td>\n",
       "      <td>0.999169</td>\n",
       "      <td>0.988336</td>\n",
       "      <td>0.939355</td>\n",
       "    </tr>\n",
       "    <tr>\n",
       "      <th>143.676768</th>\n",
       "      <td>0.999989</td>\n",
       "      <td>0.999943</td>\n",
       "      <td>0.999259</td>\n",
       "      <td>0.989256</td>\n",
       "      <td>0.942955</td>\n",
       "    </tr>\n",
       "    <tr>\n",
       "      <th>145.189899</th>\n",
       "      <td>0.999991</td>\n",
       "      <td>0.999950</td>\n",
       "      <td>0.999339</td>\n",
       "      <td>0.990104</td>\n",
       "      <td>0.946347</td>\n",
       "    </tr>\n",
       "    <tr>\n",
       "      <th>146.703030</th>\n",
       "      <td>0.999992</td>\n",
       "      <td>0.999957</td>\n",
       "      <td>0.999410</td>\n",
       "      <td>0.990885</td>\n",
       "      <td>0.949543</td>\n",
       "    </tr>\n",
       "    <tr>\n",
       "      <th>148.216162</th>\n",
       "      <td>0.999993</td>\n",
       "      <td>0.999963</td>\n",
       "      <td>0.999473</td>\n",
       "      <td>0.991605</td>\n",
       "      <td>0.952553</td>\n",
       "    </tr>\n",
       "    <tr>\n",
       "      <th>149.729293</th>\n",
       "      <td>0.999994</td>\n",
       "      <td>0.999968</td>\n",
       "      <td>0.999530</td>\n",
       "      <td>0.992268</td>\n",
       "      <td>0.955388</td>\n",
       "    </tr>\n",
       "    <tr>\n",
       "      <th>151.242424</th>\n",
       "      <td>0.999995</td>\n",
       "      <td>0.999972</td>\n",
       "      <td>0.999581</td>\n",
       "      <td>0.992879</td>\n",
       "      <td>0.958057</td>\n",
       "    </tr>\n",
       "    <tr>\n",
       "      <th>152.755556</th>\n",
       "      <td>0.999996</td>\n",
       "      <td>0.999976</td>\n",
       "      <td>0.999626</td>\n",
       "      <td>0.993442</td>\n",
       "      <td>0.960570</td>\n",
       "    </tr>\n",
       "    <tr>\n",
       "      <th>154.268687</th>\n",
       "      <td>0.999996</td>\n",
       "      <td>0.999979</td>\n",
       "      <td>0.999666</td>\n",
       "      <td>0.993960</td>\n",
       "      <td>0.962936</td>\n",
       "    </tr>\n",
       "    <tr>\n",
       "      <th>155.781818</th>\n",
       "      <td>0.999997</td>\n",
       "      <td>0.999982</td>\n",
       "      <td>0.999702</td>\n",
       "      <td>0.994438</td>\n",
       "      <td>0.965162</td>\n",
       "    </tr>\n",
       "    <tr>\n",
       "      <th>157.294949</th>\n",
       "      <td>0.999997</td>\n",
       "      <td>0.999984</td>\n",
       "      <td>0.999734</td>\n",
       "      <td>0.994878</td>\n",
       "      <td>0.967256</td>\n",
       "    </tr>\n",
       "    <tr>\n",
       "      <th>158.808081</th>\n",
       "      <td>0.999998</td>\n",
       "      <td>0.999986</td>\n",
       "      <td>0.999763</td>\n",
       "      <td>0.995283</td>\n",
       "      <td>0.969227</td>\n",
       "    </tr>\n",
       "    <tr>\n",
       "      <th>160.321212</th>\n",
       "      <td>0.999998</td>\n",
       "      <td>0.999988</td>\n",
       "      <td>0.999788</td>\n",
       "      <td>0.995657</td>\n",
       "      <td>0.971081</td>\n",
       "    </tr>\n",
       "    <tr>\n",
       "      <th>161.834343</th>\n",
       "      <td>0.999998</td>\n",
       "      <td>0.999990</td>\n",
       "      <td>0.999811</td>\n",
       "      <td>0.996000</td>\n",
       "      <td>0.972824</td>\n",
       "    </tr>\n",
       "    <tr>\n",
       "      <th>163.347475</th>\n",
       "      <td>0.999999</td>\n",
       "      <td>0.999991</td>\n",
       "      <td>0.999832</td>\n",
       "      <td>0.996317</td>\n",
       "      <td>0.974464</td>\n",
       "    </tr>\n",
       "    <tr>\n",
       "      <th>164.860606</th>\n",
       "      <td>0.999999</td>\n",
       "      <td>0.999992</td>\n",
       "      <td>0.999850</td>\n",
       "      <td>0.996608</td>\n",
       "      <td>0.976007</td>\n",
       "    </tr>\n",
       "    <tr>\n",
       "      <th>166.373737</th>\n",
       "      <td>0.999999</td>\n",
       "      <td>0.999993</td>\n",
       "      <td>0.999866</td>\n",
       "      <td>0.996877</td>\n",
       "      <td>0.977457</td>\n",
       "    </tr>\n",
       "    <tr>\n",
       "      <th>167.886869</th>\n",
       "      <td>0.999999</td>\n",
       "      <td>0.999994</td>\n",
       "      <td>0.999880</td>\n",
       "      <td>0.997124</td>\n",
       "      <td>0.978820</td>\n",
       "    </tr>\n",
       "    <tr>\n",
       "      <th>169.400000</th>\n",
       "      <td>0.999999</td>\n",
       "      <td>0.999995</td>\n",
       "      <td>0.999893</td>\n",
       "      <td>0.997352</td>\n",
       "      <td>0.980102</td>\n",
       "    </tr>\n",
       "  </tbody>\n",
       "</table>\n",
       "<p>100 rows × 5 columns</p>\n",
       "</div>"
      ],
      "text/plain": [
       "                  1h        3h        6h       12h        24\n",
       "19.600000   0.037971  0.001943  0.000200  0.000078  0.000032\n",
       "21.113131   0.060567  0.004428  0.000501  0.000165  0.000060\n",
       "22.626263   0.090381  0.009053  0.001137  0.000329  0.000108\n",
       "24.139394   0.127380  0.016841  0.002360  0.000621  0.000189\n",
       "25.652525   0.170944  0.028865  0.004529  0.001115  0.000319\n",
       "27.165657   0.219972  0.046079  0.008101  0.001912  0.000521\n",
       "28.678788   0.273053  0.069156  0.013611  0.003142  0.000828\n",
       "30.191919   0.328644  0.098378  0.021625  0.004962  0.001277\n",
       "31.705051   0.385225  0.133589  0.032686  0.007558  0.001919\n",
       "33.218182   0.441424  0.174226  0.047254  0.011134  0.002813\n",
       "34.731313   0.496083  0.219400  0.065655  0.015905  0.004029\n",
       "36.244444   0.548296  0.268009  0.088046  0.022089  0.005644\n",
       "37.757576   0.597409  0.318858  0.114398  0.029887  0.007745\n",
       "39.270707   0.642999  0.370757  0.144501  0.039481  0.010426\n",
       "40.783838   0.684840  0.422612  0.177990  0.051015  0.013780\n",
       "42.296970   0.722869  0.473471  0.214371  0.064592  0.017907\n",
       "43.810101   0.757146  0.522557  0.253065  0.080267  0.022899\n",
       "45.323232   0.787820  0.569274  0.293450  0.098042  0.028846\n",
       "46.836364   0.815103  0.613201  0.334894  0.117868  0.035829\n",
       "48.349495   0.839242  0.654072  0.376789  0.139649  0.043916\n",
       "49.862626   0.860504  0.691753  0.418575  0.163244  0.053162\n",
       "51.375758   0.879158  0.726218  0.459756  0.188479  0.063609\n",
       "52.888889   0.895472  0.757526  0.499908  0.215148  0.075277\n",
       "54.402020   0.909697  0.785795  0.538684  0.243026  0.088173\n",
       "55.915152   0.922071  0.811188  0.575815  0.271877  0.102286\n",
       "57.428283   0.932812  0.833895  0.611100  0.301460  0.117584\n",
       "58.941414   0.942120  0.854121  0.644405  0.331534  0.134025\n",
       "60.454545   0.950173  0.872076  0.675650  0.361870  0.151546\n",
       "61.967677   0.957131  0.887968  0.704805  0.392248  0.170075\n",
       "63.480808   0.963137  0.901998  0.731880  0.422467  0.189529\n",
       "...              ...       ...       ...       ...       ...\n",
       "125.519192  0.999932  0.999688  0.997091  0.971306  0.882303\n",
       "127.032323  0.999942  0.999729  0.997404  0.973551  0.889083\n",
       "128.545455  0.999950  0.999765  0.997684  0.975623  0.895496\n",
       "130.058586  0.999957  0.999796  0.997933  0.977534  0.901559\n",
       "131.571717  0.999963  0.999823  0.998156  0.979297  0.907289\n",
       "133.084848  0.999969  0.999846  0.998354  0.980923  0.912702\n",
       "134.597980  0.999973  0.999867  0.998531  0.982422  0.917813\n",
       "136.111111  0.999977  0.999884  0.998690  0.983805  0.922638\n",
       "137.624242  0.999980  0.999899  0.998831  0.985080  0.927191\n",
       "139.137374  0.999983  0.999913  0.998957  0.986255  0.931486\n",
       "140.650505  0.999985  0.999924  0.999069  0.987338  0.935536\n",
       "142.163636  0.999988  0.999934  0.999169  0.988336  0.939355\n",
       "143.676768  0.999989  0.999943  0.999259  0.989256  0.942955\n",
       "145.189899  0.999991  0.999950  0.999339  0.990104  0.946347\n",
       "146.703030  0.999992  0.999957  0.999410  0.990885  0.949543\n",
       "148.216162  0.999993  0.999963  0.999473  0.991605  0.952553\n",
       "149.729293  0.999994  0.999968  0.999530  0.992268  0.955388\n",
       "151.242424  0.999995  0.999972  0.999581  0.992879  0.958057\n",
       "152.755556  0.999996  0.999976  0.999626  0.993442  0.960570\n",
       "154.268687  0.999996  0.999979  0.999666  0.993960  0.962936\n",
       "155.781818  0.999997  0.999982  0.999702  0.994438  0.965162\n",
       "157.294949  0.999997  0.999984  0.999734  0.994878  0.967256\n",
       "158.808081  0.999998  0.999986  0.999763  0.995283  0.969227\n",
       "160.321212  0.999998  0.999988  0.999788  0.995657  0.971081\n",
       "161.834343  0.999998  0.999990  0.999811  0.996000  0.972824\n",
       "163.347475  0.999999  0.999991  0.999832  0.996317  0.974464\n",
       "164.860606  0.999999  0.999992  0.999850  0.996608  0.976007\n",
       "166.373737  0.999999  0.999993  0.999866  0.996877  0.977457\n",
       "167.886869  0.999999  0.999994  0.999880  0.997124  0.978820\n",
       "169.400000  0.999999  0.999995  0.999893  0.997352  0.980102\n",
       "\n",
       "[100 rows x 5 columns]"
      ]
     },
     "execution_count": 33,
     "metadata": {},
     "output_type": "execute_result"
    }
   ],
   "source": [
    "gb=pd.DataFrame([gumbel(t_rain,abs_m,\"1h\"),\n",
    "                 gumbel(t_rain,abs_m,\"3h\"),\n",
    "                 gumbel(t_rain,abs_m,\"6h\"),\n",
    "                 gumbel(t_rain,abs_m,\"12h\"),\n",
    "                 gumbel(t_rain,abs_m,\"24h\")]).T\n",
    "gb.index=t_rain\n",
    "gb.columns=[\"1h\",\"3h\",\"6h\",\"12h\",\"24\"]\n",
    "gb"
   ]
  },
  {
   "cell_type": "code",
   "execution_count": 36,
   "metadata": {
    "collapsed": false
   },
   "outputs": [
    {
     "data": {
      "text/plain": [
       "[<matplotlib.lines.Line2D at 0x11e525e10>]"
      ]
     },
     "execution_count": 36,
     "metadata": {},
     "output_type": "execute_result"
    },
    {
     "data": {
      "image/png": "[encoded data removed]",
      "text/plain": [
       "<matplotlib.figure.Figure at 0x11e4070f0>"
      ]
     },
     "metadata": {},
     "output_type": "display_data"
    }
   ],
   "source": [
    "plt.rc('xtick', labelsize=20) #Quest  comandi globali\n",
    "plt.rc('ytick', labelsize=20) #Questi sono comandi globali\n",
    "ax=gb.plot(color=[\"red\",\"blue\",\"cyan\",\"green\",\"black\"])\n",
    "ecdf1h = ECDF(data[\"1h\"])\n",
    "ax.plot(data[\"1h\"],ecdf1h(data[\"1h\"]),'o',c=\"red\",label=\"1h\")"
   ]
  },
  {
   "cell_type": "code",
   "execution_count": 37,
   "metadata": {
    "collapsed": false
   },
   "outputs": [
    {
     "data": {
      "text/plain": [
       "<matplotlib.text.Text at 0x11e64c278>"
      ]
     },
     "execution_count": 37,
     "metadata": {},
     "output_type": "execute_result"
    },
    {
     "data": {
      "image/png": "[encoded data removed]",
      "text/plain": [
       "<matplotlib.figure.Figure at 0x11e63ca20>"
      ]
     },
     "metadata": {},
     "output_type": "display_data"
    }
   ],
   "source": [
    "plt.rc('xtick', labelsize=20) #Quest  comandi globali\n",
    "plt.rc('ytick', labelsize=20) #Questi sono comandi globali\n",
    "ax=gb.plot(color=[\"red\",\"blue\",\"cyan\",\"green\",\"black\"])\n",
    "ecdf1h = ECDF(data[\"1h\"])\n",
    "ax.plot(data[\"1h\"],ecdf1h(data[\"1h\"]),'o',c=\"red\",label=\"1h\")\n",
    "data3h=data[\"3h\"].dropna()\n",
    "ecdf3h = ECDF(data3h)\n",
    "ax.plot(data3h,ecdf3h(data3h),\"o\",c=\"blue\",label=\"3h\")\n",
    "data6h=data[\"6h\"].dropna()\n",
    "ecdf6h = ECDF(data6h)\n",
    "ax.plot(data6h,ecdf6h(data6h),\"o\",c=\"cyan\")\n",
    "data12h=data[\"12h\"].dropna()\n",
    "ecdf12h = ECDF(data12h)\n",
    "ax.plot(data12h,ecdf12h(data12h),\"o\",c=\"green\")\n",
    "data24h=data[\"24h\"].dropna()\n",
    "ecdf24h = ECDF(data24h)\n",
    "ax.plot(data24h,ecdf24h(data24h),\"o\",c=\"black\")\n",
    "ax.set_title('Lspp 1h')\n",
    "ax.set_xlabel('Rainfall (mm)')\n",
    "ax.set_ylabel('P[H<h]')"
   ]
  }
 ],
 "metadata": {
  "kernelspec": {
   "display_name": "Python 3",
   "language": "python",
   "name": "python3"
  },
  "language_info": {
   "codemirror_mode": {
    "name": "ipython",
    "version": 3
   },
   "file_extension": ".py",
   "mimetype": "text/x-python",
   "name": "python",
   "nbconvert_exporter": "python",
   "pygments_lexer": "ipython3",
   "version": "3.6.8"
  }
 },
 "nbformat": 4,
 "nbformat_minor": 2
}
