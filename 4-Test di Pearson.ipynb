{
 "cells": [
  {
   "cell_type": "markdown",
   "metadata": {},
   "source": [
    "# Test di Pearson"
   ]
  },
  {
   "cell_type": "code",
   "execution_count": 2,
   "metadata": {
    "collapsed": true
   },
   "outputs": [],
   "source": [
    "import os\n",
    "import math\n",
    "from pandas import *\n",
    "import pandas as pd\n",
    "from datetime import datetime\n",
    "%matplotlib inline \n",
    "import matplotlib.pyplot as plt\n",
    "from statsmodels.distributions.empirical_distribution import ECDF\n",
    "\n",
    "os.getcwd()\n",
    "os.chdir(\"/Users/riccardo/Dropbox/A-Data/Paperopoli\")\n",
    "data = pd.read_csv('PluviometriaPaperopoli_4.txt')\n",
    "map(datetime,data['anno'])\n",
    "data=data.set_index('anno')"
   ]
  },
  {
   "cell_type": "code",
   "execution_count": 3,
   "metadata": {
    "collapsed": false
   },
   "outputs": [
    {
     "data": {
      "text/html": [
       "<div>\n",
       "<style scoped>\n",
       "    .dataframe tbody tr th:only-of-type {\n",
       "        vertical-align: middle;\n",
       "    }\n",
       "\n",
       "    .dataframe tbody tr th {\n",
       "        vertical-align: top;\n",
       "    }\n",
       "\n",
       "    .dataframe thead th {\n",
       "        text-align: right;\n",
       "    }\n",
       "</style>\n",
       "<table border=\"1\" class=\"dataframe\">\n",
       "  <thead>\n",
       "    <tr style=\"text-align: right;\">\n",
       "      <th></th>\n",
       "      <th>1h</th>\n",
       "      <th>3h</th>\n",
       "      <th>6h</th>\n",
       "      <th>12h</th>\n",
       "      <th>24h</th>\n",
       "    </tr>\n",
       "    <tr>\n",
       "      <th>anno</th>\n",
       "      <th></th>\n",
       "      <th></th>\n",
       "      <th></th>\n",
       "      <th></th>\n",
       "      <th></th>\n",
       "    </tr>\n",
       "  </thead>\n",
       "  <tbody>\n",
       "    <tr>\n",
       "      <th>1984</th>\n",
       "      <td>61.2</td>\n",
       "      <td>61.4</td>\n",
       "      <td>61.4</td>\n",
       "      <td>62.6</td>\n",
       "      <td>81.8</td>\n",
       "    </tr>\n",
       "    <tr>\n",
       "      <th>1985</th>\n",
       "      <td>23.6</td>\n",
       "      <td>35.6</td>\n",
       "      <td>44.2</td>\n",
       "      <td>58.6</td>\n",
       "      <td>69.8</td>\n",
       "    </tr>\n",
       "    <tr>\n",
       "      <th>1986</th>\n",
       "      <td>20.2</td>\n",
       "      <td>36.8</td>\n",
       "      <td>51.4</td>\n",
       "      <td>55.8</td>\n",
       "      <td>74.4</td>\n",
       "    </tr>\n",
       "    <tr>\n",
       "      <th>1987</th>\n",
       "      <td>32.6</td>\n",
       "      <td>40.6</td>\n",
       "      <td>64.6</td>\n",
       "      <td>77.2</td>\n",
       "      <td>81.2</td>\n",
       "    </tr>\n",
       "    <tr>\n",
       "      <th>1988</th>\n",
       "      <td>89.2</td>\n",
       "      <td>102.0</td>\n",
       "      <td>102.0</td>\n",
       "      <td>102.0</td>\n",
       "      <td>104.2</td>\n",
       "    </tr>\n",
       "  </tbody>\n",
       "</table>\n",
       "</div>"
      ],
      "text/plain": [
       "        1h     3h     6h    12h    24h\n",
       "anno                                  \n",
       "1984  61.2   61.4   61.4   62.6   81.8\n",
       "1985  23.6   35.6   44.2   58.6   69.8\n",
       "1986  20.2   36.8   51.4   55.8   74.4\n",
       "1987  32.6   40.6   64.6   77.2   81.2\n",
       "1988  89.2  102.0  102.0  102.0  104.2"
      ]
     },
     "execution_count": 3,
     "metadata": {},
     "output_type": "execute_result"
    }
   ],
   "source": [
    "data[-5:]"
   ]
  },
  {
   "cell_type": "code",
   "execution_count": 4,
   "metadata": {
    "collapsed": true
   },
   "outputs": [],
   "source": [
    "from scipy.stats import norm\n",
    "from scipy.stats import genextreme,gumbel_r\n",
    "from numpy import linspace\n",
    "from pylab import plot,show,hist,figure,title"
   ]
  },
  {
   "cell_type": "code",
   "execution_count": 5,
   "metadata": {},
   "outputs": [
    {
     "data": {
      "text/plain": [
       "['abs_mle_right',\n",
       " 'abs_mle',\n",
       " 'abs_mq',\n",
       " 'PluviometriaPaperopoli_4.txt',\n",
       " 'best_param',\n",
       " 'abs_m',\n",
       " 'PluviometriaPaperopoli_2.txt',\n",
       " 'PluviometriaPaperopoli_3.txt']"
      ]
     },
     "execution_count": 5,
     "metadata": {},
     "output_type": "execute_result"
    }
   ],
   "source": [
    "os.listdir()"
   ]
  },
  {
   "cell_type": "code",
   "execution_count": 5,
   "metadata": {
    "collapsed": false
   },
   "outputs": [],
   "source": [
    "abs_m=pd.read_pickle(\"abs_m\")\n",
    "abs_mq=pd.read_pickle(\"abs_mq\")\n",
    "abs_mle=pd.read_pickle(\"abs_mle\")"
   ]
  },
  {
   "cell_type": "code",
   "execution_count": 6,
   "metadata": {
    "collapsed": false
   },
   "outputs": [
    {
     "data": {
      "text/html": [
       "<div>\n",
       "<style scoped>\n",
       "    .dataframe tbody tr th:only-of-type {\n",
       "        vertical-align: middle;\n",
       "    }\n",
       "\n",
       "    .dataframe tbody tr th {\n",
       "        vertical-align: top;\n",
       "    }\n",
       "\n",
       "    .dataframe thead th {\n",
       "        text-align: right;\n",
       "    }\n",
       "</style>\n",
       "<table border=\"1\" class=\"dataframe\">\n",
       "  <thead>\n",
       "    <tr style=\"text-align: right;\">\n",
       "      <th></th>\n",
       "      <th>1h</th>\n",
       "      <th>3h</th>\n",
       "      <th>6h</th>\n",
       "      <th>12h</th>\n",
       "      <th>24h</th>\n",
       "    </tr>\n",
       "  </thead>\n",
       "  <tbody>\n",
       "    <tr>\n",
       "      <th>a</th>\n",
       "      <td>-0.499291</td>\n",
       "      <td>-0.989925</td>\n",
       "      <td>-0.408223</td>\n",
       "      <td>-0.968343</td>\n",
       "      <td>2.212177</td>\n",
       "    </tr>\n",
       "    <tr>\n",
       "      <th>b</th>\n",
       "      <td>1.819930</td>\n",
       "      <td>-0.764857</td>\n",
       "      <td>-3.666225</td>\n",
       "      <td>-6.727317</td>\n",
       "      <td>0.300262</td>\n",
       "    </tr>\n",
       "  </tbody>\n",
       "</table>\n",
       "</div>"
      ],
      "text/plain": [
       "         1h        3h        6h       12h       24h\n",
       "a -0.499291 -0.989925 -0.408223 -0.968343  2.212177\n",
       "b  1.819930 -0.764857 -3.666225 -6.727317  0.300262"
      ]
     },
     "execution_count": 6,
     "metadata": {},
     "output_type": "execute_result"
    }
   ],
   "source": [
    "abs_m-abs_mq"
   ]
  },
  {
   "cell_type": "code",
   "execution_count": 7,
   "metadata": {
    "collapsed": false
   },
   "outputs": [
    {
     "data": {
      "text/html": [
       "<div>\n",
       "<style scoped>\n",
       "    .dataframe tbody tr th:only-of-type {\n",
       "        vertical-align: middle;\n",
       "    }\n",
       "\n",
       "    .dataframe tbody tr th {\n",
       "        vertical-align: top;\n",
       "    }\n",
       "\n",
       "    .dataframe thead th {\n",
       "        text-align: right;\n",
       "    }\n",
       "</style>\n",
       "<table border=\"1\" class=\"dataframe\">\n",
       "  <thead>\n",
       "    <tr style=\"text-align: right;\">\n",
       "      <th></th>\n",
       "      <th>1h</th>\n",
       "      <th>3h</th>\n",
       "      <th>6h</th>\n",
       "      <th>12h</th>\n",
       "      <th>24h</th>\n",
       "    </tr>\n",
       "  </thead>\n",
       "  <tbody>\n",
       "    <tr>\n",
       "      <th>a</th>\n",
       "      <td>31.241689</td>\n",
       "      <td>39.187045</td>\n",
       "      <td>48.028038</td>\n",
       "      <td>60.753736</td>\n",
       "      <td>75.683743</td>\n",
       "    </tr>\n",
       "    <tr>\n",
       "      <th>b</th>\n",
       "      <td>9.823556</td>\n",
       "      <td>10.694365</td>\n",
       "      <td>13.272078</td>\n",
       "      <td>18.313274</td>\n",
       "      <td>23.986088</td>\n",
       "    </tr>\n",
       "  </tbody>\n",
       "</table>\n",
       "</div>"
      ],
      "text/plain": [
       "          1h         3h         6h        12h        24h\n",
       "a  31.241689  39.187045  48.028038  60.753736  75.683743\n",
       "b   9.823556  10.694365  13.272078  18.313274  23.986088"
      ]
     },
     "execution_count": 7,
     "metadata": {},
     "output_type": "execute_result"
    }
   ],
   "source": [
    "abs_m"
   ]
  },
  {
   "cell_type": "code",
   "execution_count": 8,
   "metadata": {
    "collapsed": false
   },
   "outputs": [
    {
     "data": {
      "text/html": [
       "<div>\n",
       "<style scoped>\n",
       "    .dataframe tbody tr th:only-of-type {\n",
       "        vertical-align: middle;\n",
       "    }\n",
       "\n",
       "    .dataframe tbody tr th {\n",
       "        vertical-align: top;\n",
       "    }\n",
       "\n",
       "    .dataframe thead th {\n",
       "        text-align: right;\n",
       "    }\n",
       "</style>\n",
       "<table border=\"1\" class=\"dataframe\">\n",
       "  <thead>\n",
       "    <tr style=\"text-align: right;\">\n",
       "      <th></th>\n",
       "      <th>1h</th>\n",
       "      <th>3h</th>\n",
       "      <th>6h</th>\n",
       "      <th>12h</th>\n",
       "      <th>24h</th>\n",
       "    </tr>\n",
       "  </thead>\n",
       "  <tbody>\n",
       "    <tr>\n",
       "      <th>a</th>\n",
       "      <td>31.740980</td>\n",
       "      <td>40.176970</td>\n",
       "      <td>48.436261</td>\n",
       "      <td>61.722079</td>\n",
       "      <td>73.471566</td>\n",
       "    </tr>\n",
       "    <tr>\n",
       "      <th>b</th>\n",
       "      <td>8.003627</td>\n",
       "      <td>11.459221</td>\n",
       "      <td>16.938302</td>\n",
       "      <td>25.040592</td>\n",
       "      <td>23.685827</td>\n",
       "    </tr>\n",
       "  </tbody>\n",
       "</table>\n",
       "</div>"
      ],
      "text/plain": [
       "          1h         3h         6h        12h        24h\n",
       "a  31.740980  40.176970  48.436261  61.722079  73.471566\n",
       "b   8.003627  11.459221  16.938302  25.040592  23.685827"
      ]
     },
     "execution_count": 8,
     "metadata": {},
     "output_type": "execute_result"
    }
   ],
   "source": [
    "abs_mq"
   ]
  },
  {
   "cell_type": "code",
   "execution_count": 9,
   "metadata": {
    "collapsed": false
   },
   "outputs": [
    {
     "data": {
      "text/html": [
       "<div>\n",
       "<style scoped>\n",
       "    .dataframe tbody tr th:only-of-type {\n",
       "        vertical-align: middle;\n",
       "    }\n",
       "\n",
       "    .dataframe tbody tr th {\n",
       "        vertical-align: top;\n",
       "    }\n",
       "\n",
       "    .dataframe thead th {\n",
       "        text-align: right;\n",
       "    }\n",
       "</style>\n",
       "<table border=\"1\" class=\"dataframe\">\n",
       "  <thead>\n",
       "    <tr style=\"text-align: right;\">\n",
       "      <th></th>\n",
       "      <th>1h</th>\n",
       "      <th>3h</th>\n",
       "      <th>6h</th>\n",
       "      <th>12h</th>\n",
       "      <th>24h</th>\n",
       "    </tr>\n",
       "  </thead>\n",
       "  <tbody>\n",
       "    <tr>\n",
       "      <th>a</th>\n",
       "      <td>31.59042</td>\n",
       "      <td>39.527315</td>\n",
       "      <td>48.100316</td>\n",
       "      <td>60.562103</td>\n",
       "      <td>75.848891</td>\n",
       "    </tr>\n",
       "    <tr>\n",
       "      <th>b</th>\n",
       "      <td>9.07316</td>\n",
       "      <td>10.041456</td>\n",
       "      <td>12.398915</td>\n",
       "      <td>18.005471</td>\n",
       "      <td>22.435148</td>\n",
       "    </tr>\n",
       "  </tbody>\n",
       "</table>\n",
       "</div>"
      ],
      "text/plain": [
       "         1h         3h         6h        12h        24h\n",
       "a  31.59042  39.527315  48.100316  60.562103  75.848891\n",
       "b   9.07316  10.041456  12.398915  18.005471  22.435148"
      ]
     },
     "execution_count": 9,
     "metadata": {},
     "output_type": "execute_result"
    }
   ],
   "source": [
    "abs_mle"
   ]
  },
  {
   "cell_type": "markdown",
   "metadata": {},
   "source": [
    "https://docs.scipy.org/doc/scipy-0.18.1/reference/tutorial/stats.html"
   ]
  },
  {
   "cell_type": "code",
   "execution_count": 11,
   "metadata": {
    "collapsed": false
   },
   "outputs": [
    {
     "data": {
      "text/plain": [
       "31.241689405642404"
      ]
     },
     "execution_count": 11,
     "metadata": {},
     "output_type": "execute_result"
    }
   ],
   "source": [
    "abs_m.at[\"a\",\"1h\"]"
   ]
  },
  {
   "cell_type": "code",
   "execution_count": 12,
   "metadata": {
    "collapsed": false
   },
   "outputs": [
    {
     "data": {
      "text/plain": [
       "<scipy.stats._distn_infrastructure.rv_frozen at 0x1a23b38f98>"
      ]
     },
     "execution_count": 12,
     "metadata": {},
     "output_type": "execute_result"
    }
   ],
   "source": [
    "rv=gumbel_r(loc=abs_m.at[\"a\",\"1h\"],scale=abs_m.at[\"b\",\"1h\"])\n",
    "rv"
   ]
  },
  {
   "cell_type": "code",
   "execution_count": 13,
   "metadata": {
    "collapsed": false
   },
   "outputs": [
    {
     "data": {
      "text/plain": [
       "array([26.56680635, 32.10048014, 37.84043735, 45.97643435,         inf])"
      ]
     },
     "execution_count": 13,
     "metadata": {},
     "output_type": "execute_result"
    }
   ],
   "source": [
    "q=[0.2,0.4,0.6,0.8,1]\n",
    "h1h=rv.ppf(q)\n",
    "h1h"
   ]
  },
  {
   "cell_type": "code",
   "execution_count": 14,
   "metadata": {
    "collapsed": false
   },
   "outputs": [
    {
     "data": {
      "text/plain": [
       "array([0.16, 0.34, 0.62, 0.84, 1.  ])"
      ]
     },
     "execution_count": 14,
     "metadata": {},
     "output_type": "execute_result"
    }
   ],
   "source": [
    "ecdf1h = ECDF(data[\"1h\"])\n",
    "r=ecdf1h(h1h)\n",
    "r"
   ]
  },
  {
   "cell_type": "code",
   "execution_count": 15,
   "metadata": {
    "collapsed": false
   },
   "outputs": [
    {
     "data": {
      "text/plain": [
       "50"
      ]
     },
     "execution_count": 15,
     "metadata": {},
     "output_type": "execute_result"
    }
   ],
   "source": [
    "l1h=len(data[\"1h\"])\n",
    "l1h"
   ]
  },
  {
   "cell_type": "markdown",
   "metadata": {},
   "source": [
    "Ci si aspetta che, in ogni intervallo, con limite destro h1h, ci siano $e=(l1h * q)$ elementi mentre ce ne sono  in realtà $o=(l1h * r)$.  La formula dell'$X^2$ è allora:\n",
    "\\begin{equation}\n",
    "X^2 = \\frac{1}{e}\\sum_{i=1}^k (e - o)^2\n",
    "\\end{equation}"
   ]
  },
  {
   "cell_type": "code",
   "execution_count": 16,
   "metadata": {
    "collapsed": false
   },
   "outputs": [
    {
     "data": {
      "text/plain": [
       "array([ 8., 17., 31., 42., 50.])"
      ]
     },
     "execution_count": 16,
     "metadata": {},
     "output_type": "execute_result"
    }
   ],
   "source": [
    "o0=l1h*r\n",
    "o0"
   ]
  },
  {
   "cell_type": "code",
   "execution_count": 17,
   "metadata": {
    "collapsed": false
   },
   "outputs": [
    {
     "data": {
      "text/plain": [
       "array([ 0.,  8., 17., 31., 42.])"
      ]
     },
     "execution_count": 17,
     "metadata": {},
     "output_type": "execute_result"
    }
   ],
   "source": [
    "np.append([0],np.delete(o0,-1))"
   ]
  },
  {
   "cell_type": "code",
   "execution_count": 18,
   "metadata": {
    "collapsed": false
   },
   "outputs": [
    {
     "data": {
      "text/plain": [
       "array([ 8.,  9., 14., 11.,  8.])"
      ]
     },
     "execution_count": 18,
     "metadata": {},
     "output_type": "execute_result"
    }
   ],
   "source": [
    "o=o0-np.append([0],np.delete(o0,-1))\n",
    "o"
   ]
  },
  {
   "cell_type": "code",
   "execution_count": 19,
   "metadata": {
    "collapsed": false
   },
   "outputs": [
    {
     "data": {
      "text/plain": [
       "range(0, 5)"
      ]
     },
     "execution_count": 19,
     "metadata": {},
     "output_type": "execute_result"
    }
   ],
   "source": [
    "range(len(r))"
   ]
  },
  {
   "cell_type": "code",
   "execution_count": 20,
   "metadata": {
    "collapsed": false
   },
   "outputs": [
    {
     "data": {
      "text/plain": [
       "[10.0, 10.0, 10.0, 10.0, 10.0]"
      ]
     },
     "execution_count": 20,
     "metadata": {},
     "output_type": "execute_result"
    }
   ],
   "source": [
    "e=[0.2*l1h for i in range(len(r))]\n",
    "e"
   ]
  },
  {
   "cell_type": "code",
   "execution_count": 21,
   "metadata": {
    "collapsed": false
   },
   "outputs": [
    {
     "data": {
      "text/plain": [
       "array([-2., -1.,  4.,  1., -2.])"
      ]
     },
     "execution_count": 21,
     "metadata": {},
     "output_type": "execute_result"
    }
   ],
   "source": [
    "o-e"
   ]
  },
  {
   "cell_type": "code",
   "execution_count": 22,
   "metadata": {
    "collapsed": false
   },
   "outputs": [
    {
     "data": {
      "text/plain": [
       "array([ 4.,  1., 16.,  1.,  4.])"
      ]
     },
     "execution_count": 22,
     "metadata": {},
     "output_type": "execute_result"
    }
   ],
   "source": [
    "(o-e)**2"
   ]
  },
  {
   "cell_type": "code",
   "execution_count": 23,
   "metadata": {
    "collapsed": false
   },
   "outputs": [
    {
     "data": {
      "text/plain": [
       "array([0.4, 0.1, 1.6, 0.1, 0.4])"
      ]
     },
     "execution_count": 23,
     "metadata": {},
     "output_type": "execute_result"
    }
   ],
   "source": [
    "(o-e)**2/e"
   ]
  },
  {
   "cell_type": "code",
   "execution_count": 24,
   "metadata": {
    "collapsed": false
   },
   "outputs": [
    {
     "data": {
      "text/plain": [
       "2.6000000000000045"
      ]
     },
     "execution_count": 24,
     "metadata": {},
     "output_type": "execute_result"
    }
   ],
   "source": [
    "((o-e)**2/e).sum()"
   ]
  },
  {
   "cell_type": "code",
   "execution_count": 25,
   "metadata": {
    "collapsed": false
   },
   "outputs": [],
   "source": [
    "def X2(data,abs_t,h,delta):    \n",
    "    dt=data[h].dropna()\n",
    "    #print(dt)\n",
    "    lh=len(dt)\n",
    "    #print(\"lh: \",lh)\n",
    "    q=[delta*(i+1) for i in range(int(1/delta))]\n",
    "    #print(\"q: \",q)\n",
    "    rv=gumbel_r(loc=abs_t.at[\"a\",h],scale=abs_t.at[\"b\",h])\n",
    "    ecdf = ECDF(dt)\n",
    "    r=ecdf(rv.ppf(q))\n",
    "    #print(\"r: \",r)\n",
    "    o0=lh*r\n",
    "    #print(\"o0: \",o0)\n",
    "    o=o0-np.append([0],np.delete(o0,-1))\n",
    "    #print(\"o: \",o)\n",
    "    e=[delta*lh for i in range(len(r))]\n",
    "    #print(\"e: \",e)\n",
    "    return ((o-e)**2/e).sum()  "
   ]
  },
  {
   "cell_type": "code",
   "execution_count": 26,
   "metadata": {
    "collapsed": false
   },
   "outputs": [
    {
     "data": {
      "text/plain": [
       "2.6000000000000045"
      ]
     },
     "execution_count": 26,
     "metadata": {},
     "output_type": "execute_result"
    }
   ],
   "source": [
    "X2(data,abs_m,\"1h\",0.2)"
   ]
  },
  {
   "cell_type": "code",
   "execution_count": 27,
   "metadata": {
    "collapsed": false
   },
   "outputs": [
    {
     "data": {
      "text/plain": [
       "0.7999999999999978"
      ]
     },
     "execution_count": 27,
     "metadata": {},
     "output_type": "execute_result"
    }
   ],
   "source": [
    "X2(data,abs_mq,\"1h\",0.2)"
   ]
  },
  {
   "cell_type": "code",
   "execution_count": 28,
   "metadata": {
    "collapsed": false
   },
   "outputs": [
    {
     "data": {
      "text/plain": [
       "1.8000000000000023"
      ]
     },
     "execution_count": 28,
     "metadata": {},
     "output_type": "execute_result"
    }
   ],
   "source": [
    "X2(data,abs_mle,\"1h\",0.2)"
   ]
  },
  {
   "cell_type": "code",
   "execution_count": 29,
   "metadata": {
    "collapsed": false
   },
   "outputs": [
    {
     "data": {
      "text/plain": [
       "Index(['1h', '3h', '6h', '12h', '24h'], dtype='object')"
      ]
     },
     "execution_count": 29,
     "metadata": {},
     "output_type": "execute_result"
    }
   ],
   "source": [
    "data.columns"
   ]
  },
  {
   "cell_type": "code",
   "execution_count": 30,
   "metadata": {
    "collapsed": false
   },
   "outputs": [
    {
     "name": "stdout",
     "output_type": "stream",
     "text": [
      "1h :  [2.6000000000000045, 0.7999999999999978, 1.8000000000000023]\n",
      "3h :  [2.2222222222222223, 6.222222222222225, 2.6666666666666665]\n",
      "6h :  [4.222222222222215, 7.1111111111111125, 3.333333333333326]\n",
      "12h :  [3.1111111111111085, 2.888888888888889, 3.7777777777777697]\n",
      "24h :  [0.6666666666666667, 0.8888888888888888, 1.1111111111111112]\n"
     ]
    }
   ],
   "source": [
    "for  h in data.columns:\n",
    "    print(h,\": \",[X2(data,abs_m,h,0.2),X2(data,abs_mq,h,0.2),X2(data,abs_mle,h,0.2)])"
   ]
  },
  {
   "cell_type": "code",
   "execution_count": null,
   "metadata": {
    "collapsed": false
   },
   "outputs": [],
   "source": [
    "abs_mle"
   ]
  },
  {
   "cell_type": "code",
   "execution_count": null,
   "metadata": {
    "collapsed": false
   },
   "outputs": [],
   "source": [
    "a=[]\n",
    "for  h in data.columns:\n",
    "    a=a+[[X2(data,abs_m,h,0.2),X2(data,abs_mq,h,0.2),X2(data,abs_mle,h,0.2)]]\n",
    "   \n",
    "pd.DataFrame(a,index=[\"1h\",\"3h\",\"6h\",\"12h\",\"24h\"],columns=[\"M\",\"Mq\",\"MLE\"])"
   ]
  },
  {
   "cell_type": "markdown",
   "metadata": {},
   "source": [
    "La strategia è di costruire un DataFrame dei parametri migliori. "
   ]
  },
  {
   "cell_type": "code",
   "execution_count": null,
   "metadata": {
    "collapsed": false
   },
   "outputs": [],
   "source": [
    "best=DataFrame([abs_mq[\"1h\"],\n",
    "                abs_m[\"3h\"],\n",
    "                abs_mle[\"6h\"],\n",
    "                abs_mq[\"12h\"],\n",
    "                abs_m[\"24h\"]]).T\n",
    "                  \n",
    "best"
   ]
  },
  {
   "cell_type": "code",
   "execution_count": null,
   "metadata": {
    "collapsed": false
   },
   "outputs": [],
   "source": [
    "best.to_pickle(\"best_param\")"
   ]
  },
  {
   "cell_type": "code",
   "execution_count": null,
   "metadata": {
    "collapsed": true
   },
   "outputs": [],
   "source": [
    "from scipy.stats import genextreme,gumbel_r\n",
    "from numpy import linspace\n",
    "from statsmodels.distributions.empirical_distribution import ECDF\n",
    "def gumbel(x,abs_d,col):\n",
    "    return np.exp(-np.exp(-(x-abs_d[col][\"a\"])/abs_d[col][\"b\"]))\n",
    "t_rain=np.linspace(data.min()[0],data.max()[4],100)"
   ]
  },
  {
   "cell_type": "code",
   "execution_count": null,
   "metadata": {
    "collapsed": false
   },
   "outputs": [],
   "source": [
    "gb=pd.DataFrame([gumbel(t_rain,best,\"1h\"),\n",
    "                 gumbel(t_rain,best,\"3h\"),\n",
    "                 gumbel(t_rain,best,\"6h\"),\n",
    "                 gumbel(t_rain,best,\"12h\"),\n",
    "                 gumbel(t_rain,best,\"24h\")]).T\n",
    "gb.index=t_rain\n",
    "gb.columns=[\"1h\",\"3h\",\"6h\",\"12h\",\"24\"]\n",
    "gb[-5:]"
   ]
  },
  {
   "cell_type": "code",
   "execution_count": null,
   "metadata": {
    "collapsed": false
   },
   "outputs": [],
   "source": [
    "plt.rc('xtick', labelsize=20) #Quest  comandi globali\n",
    "plt.rc('ytick', labelsize=20) #Questi sono comandi globali\n",
    "ax=gb.plot(color=[\"red\",\"blue\",\"cyan\",\"green\",\"black\"])\n",
    "ecdf1h = ECDF(data[\"1h\"])\n",
    "ax.plot(data[\"1h\"],ecdf1h(data[\"1h\"]),'o',c=\"red\")\n",
    "data3h=data[\"3h\"].dropna()\n",
    "ecdf3h = ECDF(data3h)\n",
    "ax.plot(data3h,ecdf3h(data3h),\"o\",c=\"blue\")\n",
    "data6h=data[\"6h\"].dropna()\n",
    "ecdf6h = ECDF(data6h)\n",
    "ax.plot(data6h,ecdf6h(data6h),\"o\",c=\"cyan\")\n",
    "data12h=data[\"12h\"].dropna()\n",
    "ecdf12h = ECDF(data12h)\n",
    "ax.plot(data12h,ecdf12h(data12h),\"o\",c=\"green\")\n",
    "data24h=data[\"24h\"].dropna()\n",
    "ecdf24h = ECDF(data24h)\n",
    "ax.plot(data24h,ecdf24h(data24h),\"o\",c=\"black\")\n",
    "ax.set_title('Lssp 1h')\n",
    "ax.set_xlabel('Rainfall (mm)')\n",
    "ax.set_ylabel('P[H<h]')"
   ]
  },
  {
   "cell_type": "code",
   "execution_count": null,
   "metadata": {
    "collapsed": true
   },
   "outputs": [],
   "source": []
  }
 ],
 "metadata": {
  "kernelspec": {
   "display_name": "Python 3",
   "language": "python",
   "name": "python3"
  },
  "language_info": {
   "codemirror_mode": {
    "name": "ipython",
    "version": 3
   },
   "file_extension": ".py",
   "mimetype": "text/x-python",
   "name": "python",
   "nbconvert_exporter": "python",
   "pygments_lexer": "ipython3",
   "version": "3.6.8"
  }
 },
 "nbformat": 4,
 "nbformat_minor": 2
}
