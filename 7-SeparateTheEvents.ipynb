{
 "cells": [
  {
   "cell_type": "markdown",
   "id": "c8df4dea-1d61-44d2-a9f3-e6d0eead2936",
   "metadata": {},
   "source": [
    "# Separating Events in the S.Martino di Castrozza Rainfall Time Series"
   ]
  },
  {
   "cell_type": "code",
   "execution_count": 3,
   "id": "88cce112-2501-4b9d-923f-44ba8041ea89",
   "metadata": {},
   "outputs": [],
   "source": [
    "import os\n",
    "import pandas as pd\n",
    "import matplotlib.pyplot as plt\n",
    "%matplotlib inline \n",
    "os.chdir('DatiSanMartino')"
   ]
  },
  {
   "cell_type": "code",
   "execution_count": 4,
   "id": "c4cd3fec-9581-488a-8cc1-9a5df92671d7",
   "metadata": {},
   "outputs": [],
   "source": [
    "dSm=pd.read_feather('DailyRainfallSMartino.fea')\n",
    "dSm=dSm.set_index(\"Date\")"
   ]
  },
  {
   "cell_type": "markdown",
   "id": "5e19738f-8a17-474c-9df6-2a63281369f7",
   "metadata": {},
   "source": [
    "### Getting all the rainy or the non rainy days is relatively easy"
   ]
  },
  {
   "cell_type": "code",
   "execution_count": 5,
   "id": "9e4f04fe-46d7-4b0c-9fed-827a321fa143",
   "metadata": {},
   "outputs": [
    {
     "data": {
      "text/html": [
       "<div>\n",
       "<style scoped>\n",
       "    .dataframe tbody tr th:only-of-type {\n",
       "        vertical-align: middle;\n",
       "    }\n",
       "\n",
       "    .dataframe tbody tr th {\n",
       "        vertical-align: top;\n",
       "    }\n",
       "\n",
       "    .dataframe thead th {\n",
       "        text-align: right;\n",
       "    }\n",
       "</style>\n",
       "<table border=\"1\" class=\"dataframe\">\n",
       "  <thead>\n",
       "    <tr style=\"text-align: right;\">\n",
       "      <th></th>\n",
       "      <th>Rain[mm]</th>\n",
       "    </tr>\n",
       "    <tr>\n",
       "      <th>Date</th>\n",
       "      <th></th>\n",
       "    </tr>\n",
       "  </thead>\n",
       "  <tbody>\n",
       "    <tr>\n",
       "      <th>1921-01-01</th>\n",
       "      <td>0.0</td>\n",
       "    </tr>\n",
       "    <tr>\n",
       "      <th>1921-01-02</th>\n",
       "      <td>0.0</td>\n",
       "    </tr>\n",
       "    <tr>\n",
       "      <th>1921-01-04</th>\n",
       "      <td>0.0</td>\n",
       "    </tr>\n",
       "    <tr>\n",
       "      <th>1921-01-05</th>\n",
       "      <td>0.0</td>\n",
       "    </tr>\n",
       "    <tr>\n",
       "      <th>1921-01-06</th>\n",
       "      <td>0.0</td>\n",
       "    </tr>\n",
       "    <tr>\n",
       "      <th>...</th>\n",
       "      <td>...</td>\n",
       "    </tr>\n",
       "    <tr>\n",
       "      <th>NaT</th>\n",
       "      <td>0.0</td>\n",
       "    </tr>\n",
       "    <tr>\n",
       "      <th>NaT</th>\n",
       "      <td>0.0</td>\n",
       "    </tr>\n",
       "    <tr>\n",
       "      <th>NaT</th>\n",
       "      <td>0.0</td>\n",
       "    </tr>\n",
       "    <tr>\n",
       "      <th>NaT</th>\n",
       "      <td>0.0</td>\n",
       "    </tr>\n",
       "    <tr>\n",
       "      <th>NaT</th>\n",
       "      <td>0.0</td>\n",
       "    </tr>\n",
       "  </tbody>\n",
       "</table>\n",
       "<p>14983 rows × 1 columns</p>\n",
       "</div>"
      ],
      "text/plain": [
       "            Rain[mm]\n",
       "Date                \n",
       "1921-01-01       0.0\n",
       "1921-01-02       0.0\n",
       "1921-01-04       0.0\n",
       "1921-01-05       0.0\n",
       "1921-01-06       0.0\n",
       "...              ...\n",
       "NaT              0.0\n",
       "NaT              0.0\n",
       "NaT              0.0\n",
       "NaT              0.0\n",
       "NaT              0.0\n",
       "\n",
       "[14983 rows x 1 columns]"
      ]
     },
     "execution_count": 5,
     "metadata": {},
     "output_type": "execute_result"
    }
   ],
   "source": [
    "zeroRainDays=dSm[dSm[\"Rain[mm]\"]==0.0]\n",
    "zeroRainDays"
   ]
  },
  {
   "cell_type": "code",
   "execution_count": 4,
   "id": "c0b38a3c-cedf-4a4c-9957-05002986db5b",
   "metadata": {},
   "outputs": [
    {
     "data": {
      "text/html": [
       "<div>\n",
       "<style scoped>\n",
       "    .dataframe tbody tr th:only-of-type {\n",
       "        vertical-align: middle;\n",
       "    }\n",
       "\n",
       "    .dataframe tbody tr th {\n",
       "        vertical-align: top;\n",
       "    }\n",
       "\n",
       "    .dataframe thead th {\n",
       "        text-align: right;\n",
       "    }\n",
       "</style>\n",
       "<table border=\"1\" class=\"dataframe\">\n",
       "  <thead>\n",
       "    <tr style=\"text-align: right;\">\n",
       "      <th></th>\n",
       "      <th>Rain[mm]</th>\n",
       "    </tr>\n",
       "    <tr>\n",
       "      <th>Date</th>\n",
       "      <th></th>\n",
       "    </tr>\n",
       "  </thead>\n",
       "  <tbody>\n",
       "    <tr>\n",
       "      <th>1921-01-03</th>\n",
       "      <td>4.0</td>\n",
       "    </tr>\n",
       "    <tr>\n",
       "      <th>1921-01-13</th>\n",
       "      <td>35.0</td>\n",
       "    </tr>\n",
       "    <tr>\n",
       "      <th>1921-01-14</th>\n",
       "      <td>15.0</td>\n",
       "    </tr>\n",
       "    <tr>\n",
       "      <th>1921-01-31</th>\n",
       "      <td>48.0</td>\n",
       "    </tr>\n",
       "    <tr>\n",
       "      <th>1921-02-03</th>\n",
       "      <td>12.0</td>\n",
       "    </tr>\n",
       "    <tr>\n",
       "      <th>...</th>\n",
       "      <td>...</td>\n",
       "    </tr>\n",
       "    <tr>\n",
       "      <th>NaT</th>\n",
       "      <td>2.6</td>\n",
       "    </tr>\n",
       "    <tr>\n",
       "      <th>NaT</th>\n",
       "      <td>0.2</td>\n",
       "    </tr>\n",
       "    <tr>\n",
       "      <th>NaT</th>\n",
       "      <td>95.6</td>\n",
       "    </tr>\n",
       "    <tr>\n",
       "      <th>NaT</th>\n",
       "      <td>6.6</td>\n",
       "    </tr>\n",
       "    <tr>\n",
       "      <th>NaT</th>\n",
       "      <td>3.8</td>\n",
       "    </tr>\n",
       "  </tbody>\n",
       "</table>\n",
       "<p>10637 rows × 1 columns</p>\n",
       "</div>"
      ],
      "text/plain": [
       "            Rain[mm]\n",
       "Date                \n",
       "1921-01-03       4.0\n",
       "1921-01-13      35.0\n",
       "1921-01-14      15.0\n",
       "1921-01-31      48.0\n",
       "1921-02-03      12.0\n",
       "...              ...\n",
       "NaT              2.6\n",
       "NaT              0.2\n",
       "NaT             95.6\n",
       "NaT              6.6\n",
       "NaT              3.8\n",
       "\n",
       "[10637 rows x 1 columns]"
      ]
     },
     "execution_count": 4,
     "metadata": {},
     "output_type": "execute_result"
    }
   ],
   "source": [
    "NonzeroRainDays=dSm[dSm[\"Rain[mm]\"]>0.0]\n",
    "NonzeroRainDays"
   ]
  },
  {
   "cell_type": "code",
   "execution_count": 5,
   "id": "1b0421b6-29e4-4992-9da3-c01041b41b5a",
   "metadata": {},
   "outputs": [
    {
     "data": {
      "text/html": [
       "<div>\n",
       "<style scoped>\n",
       "    .dataframe tbody tr th:only-of-type {\n",
       "        vertical-align: middle;\n",
       "    }\n",
       "\n",
       "    .dataframe tbody tr th {\n",
       "        vertical-align: top;\n",
       "    }\n",
       "\n",
       "    .dataframe thead th {\n",
       "        text-align: right;\n",
       "    }\n",
       "</style>\n",
       "<table border=\"1\" class=\"dataframe\">\n",
       "  <thead>\n",
       "    <tr style=\"text-align: right;\">\n",
       "      <th></th>\n",
       "      <th>Rain[mm]</th>\n",
       "    </tr>\n",
       "  </thead>\n",
       "  <tbody>\n",
       "    <tr>\n",
       "      <th>count</th>\n",
       "      <td>10637.000000</td>\n",
       "    </tr>\n",
       "    <tr>\n",
       "      <th>mean</th>\n",
       "      <td>9.397067</td>\n",
       "    </tr>\n",
       "    <tr>\n",
       "      <th>std</th>\n",
       "      <td>13.125873</td>\n",
       "    </tr>\n",
       "    <tr>\n",
       "      <th>min</th>\n",
       "      <td>0.100000</td>\n",
       "    </tr>\n",
       "    <tr>\n",
       "      <th>25%</th>\n",
       "      <td>1.200000</td>\n",
       "    </tr>\n",
       "    <tr>\n",
       "      <th>50%</th>\n",
       "      <td>4.600000</td>\n",
       "    </tr>\n",
       "    <tr>\n",
       "      <th>75%</th>\n",
       "      <td>12.200000</td>\n",
       "    </tr>\n",
       "    <tr>\n",
       "      <th>max</th>\n",
       "      <td>142.200000</td>\n",
       "    </tr>\n",
       "  </tbody>\n",
       "</table>\n",
       "</div>"
      ],
      "text/plain": [
       "           Rain[mm]\n",
       "count  10637.000000\n",
       "mean       9.397067\n",
       "std       13.125873\n",
       "min        0.100000\n",
       "25%        1.200000\n",
       "50%        4.600000\n",
       "75%       12.200000\n",
       "max      142.200000"
      ]
     },
     "execution_count": 5,
     "metadata": {},
     "output_type": "execute_result"
    }
   ],
   "source": [
    "NonzeroRainDays.describe()"
   ]
  },
  {
   "cell_type": "markdown",
   "id": "056de66f-26b8-4428-bc22-7f41529f6279",
   "metadata": {},
   "source": [
    "## Trying to find a way to count the rainy days and made statistics on them"
   ]
  },
  {
   "cell_type": "code",
   "execution_count": 1,
   "id": "cd4da362-f7c5-4a70-9202-2275f8fc73f9",
   "metadata": {},
   "outputs": [
    {
     "ename": "NameError",
     "evalue": "name 'dSm' is not defined",
     "output_type": "error",
     "traceback": [
      "\u001b[0;31m---------------------------------------------------------------------------\u001b[0m",
      "\u001b[0;31mNameError\u001b[0m                                 Traceback (most recent call last)",
      "\u001b[0;32m/var/folders/99/05rhxcfs5_s45q935k2kzpvc0000gn/T/ipykernel_23148/323406945.py\u001b[0m in \u001b[0;36m<module>\u001b[0;34m\u001b[0m\n\u001b[0;32m----> 1\u001b[0;31m \u001b[0mdSm\u001b[0m\u001b[0;34m[\u001b[0m\u001b[0mdSm\u001b[0m\u001b[0;34m[\u001b[0m\u001b[0;34m\"Rain[mm]\"\u001b[0m\u001b[0;34m]\u001b[0m\u001b[0;34m>\u001b[0m\u001b[0;36m0.0\u001b[0m\u001b[0;34m]\u001b[0m\u001b[0;34m=\u001b[0m\u001b[0;36m1\u001b[0m\u001b[0;34m\u001b[0m\u001b[0;34m\u001b[0m\u001b[0m\n\u001b[0m\u001b[1;32m      2\u001b[0m \u001b[0mdSm\u001b[0m\u001b[0;34m\u001b[0m\u001b[0;34m\u001b[0m\u001b[0m\n",
      "\u001b[0;31mNameError\u001b[0m: name 'dSm' is not defined"
     ]
    }
   ],
   "source": [
    "dSm[dSm[\"Rain[mm]\"]>0.0]=1\n",
    "dSm"
   ]
  },
  {
   "cell_type": "code",
   "execution_count": 7,
   "id": "8ebe5d13-8e35-45de-8d66-fcdfe0ea09a5",
   "metadata": {},
   "outputs": [
    {
     "data": {
      "text/html": [
       "<div>\n",
       "<style scoped>\n",
       "    .dataframe tbody tr th:only-of-type {\n",
       "        vertical-align: middle;\n",
       "    }\n",
       "\n",
       "    .dataframe tbody tr th {\n",
       "        vertical-align: top;\n",
       "    }\n",
       "\n",
       "    .dataframe thead th {\n",
       "        text-align: right;\n",
       "    }\n",
       "</style>\n",
       "<table border=\"1\" class=\"dataframe\">\n",
       "  <thead>\n",
       "    <tr style=\"text-align: right;\">\n",
       "      <th></th>\n",
       "      <th>Rain[mm]</th>\n",
       "    </tr>\n",
       "    <tr>\n",
       "      <th>Date</th>\n",
       "      <th></th>\n",
       "    </tr>\n",
       "  </thead>\n",
       "  <tbody>\n",
       "    <tr>\n",
       "      <th>1921-01-01</th>\n",
       "      <td>NaN</td>\n",
       "    </tr>\n",
       "    <tr>\n",
       "      <th>1921-01-02</th>\n",
       "      <td>0.0</td>\n",
       "    </tr>\n",
       "    <tr>\n",
       "      <th>1921-01-03</th>\n",
       "      <td>0.0</td>\n",
       "    </tr>\n",
       "    <tr>\n",
       "      <th>1921-01-04</th>\n",
       "      <td>1.0</td>\n",
       "    </tr>\n",
       "    <tr>\n",
       "      <th>1921-01-05</th>\n",
       "      <td>0.0</td>\n",
       "    </tr>\n",
       "    <tr>\n",
       "      <th>...</th>\n",
       "      <td>...</td>\n",
       "    </tr>\n",
       "    <tr>\n",
       "      <th>NaT</th>\n",
       "      <td>1.0</td>\n",
       "    </tr>\n",
       "    <tr>\n",
       "      <th>NaT</th>\n",
       "      <td>0.0</td>\n",
       "    </tr>\n",
       "    <tr>\n",
       "      <th>NaT</th>\n",
       "      <td>0.0</td>\n",
       "    </tr>\n",
       "    <tr>\n",
       "      <th>NaT</th>\n",
       "      <td>0.0</td>\n",
       "    </tr>\n",
       "    <tr>\n",
       "      <th>NaT</th>\n",
       "      <td>0.0</td>\n",
       "    </tr>\n",
       "  </tbody>\n",
       "</table>\n",
       "<p>25620 rows × 1 columns</p>\n",
       "</div>"
      ],
      "text/plain": [
       "            Rain[mm]\n",
       "Date                \n",
       "1921-01-01       NaN\n",
       "1921-01-02       0.0\n",
       "1921-01-03       0.0\n",
       "1921-01-04       1.0\n",
       "1921-01-05       0.0\n",
       "...              ...\n",
       "NaT              1.0\n",
       "NaT              0.0\n",
       "NaT              0.0\n",
       "NaT              0.0\n",
       "NaT              0.0\n",
       "\n",
       "[25620 rows x 1 columns]"
      ]
     },
     "execution_count": 7,
     "metadata": {},
     "output_type": "execute_result"
    }
   ],
   "source": [
    "dSm.shift()"
   ]
  },
  {
   "cell_type": "markdown",
   "id": "21108662-0e96-4091-a5c8-c9526c9b8cbb",
   "metadata": {},
   "source": [
    "Those NAT are disturbing we eliminate them below"
   ]
  },
  {
   "cell_type": "code",
   "execution_count": 8,
   "id": "9679ca4f-8ba9-4d00-b18c-b2e75f9a7126",
   "metadata": {},
   "outputs": [
    {
     "data": {
      "text/plain": [
       "Rain[mm]    0.0\n",
       "Name: NaT, dtype: float64"
      ]
     },
     "execution_count": 8,
     "metadata": {},
     "output_type": "execute_result"
    }
   ],
   "source": [
    "dSm.iloc[-53]"
   ]
  },
  {
   "cell_type": "code",
   "execution_count": 9,
   "id": "ac36d165-aa7c-4a0a-99d5-c5dc12b5ff3b",
   "metadata": {},
   "outputs": [
    {
     "data": {
      "text/plain": [
       "Rain[mm]    0.0\n",
       "Name: 1990-12-31 00:00:00, dtype: float64"
      ]
     },
     "execution_count": 9,
     "metadata": {},
     "output_type": "execute_result"
    }
   ],
   "source": [
    "dSm.iloc[-54]"
   ]
  },
  {
   "cell_type": "code",
   "execution_count": 10,
   "id": "7fa90deb-6663-43e8-9376-669342e1c65d",
   "metadata": {},
   "outputs": [],
   "source": [
    "dSm.drop(dSm.tail(53).index,inplace=True) "
   ]
  },
  {
   "cell_type": "code",
   "execution_count": 11,
   "id": "6a4c782d-722c-4662-9580-5e7dbc141a63",
   "metadata": {},
   "outputs": [
    {
     "data": {
      "text/plain": [
       "Index(['Rain[mm]'], dtype='object')"
      ]
     },
     "execution_count": 11,
     "metadata": {},
     "output_type": "execute_result"
    }
   ],
   "source": [
    "dSm.columns"
   ]
  },
  {
   "cell_type": "code",
   "execution_count": 12,
   "id": "1bb8c432-3d95-4cdd-8e45-2458ff69fb3f",
   "metadata": {},
   "outputs": [],
   "source": [
    "dSm.columns=[\"RainNoRain\"]"
   ]
  },
  {
   "cell_type": "markdown",
   "id": "f19cf054-1d3a-447e-b69e-cf1dbb3b7247",
   "metadata": {},
   "source": [
    "No rain is 0, rain is 1"
   ]
  },
  {
   "cell_type": "code",
   "execution_count": 13,
   "id": "d808140d-319f-4307-aaf7-4a634734c5c1",
   "metadata": {},
   "outputs": [
    {
     "data": {
      "text/html": [
       "<div>\n",
       "<style scoped>\n",
       "    .dataframe tbody tr th:only-of-type {\n",
       "        vertical-align: middle;\n",
       "    }\n",
       "\n",
       "    .dataframe tbody tr th {\n",
       "        vertical-align: top;\n",
       "    }\n",
       "\n",
       "    .dataframe thead th {\n",
       "        text-align: right;\n",
       "    }\n",
       "</style>\n",
       "<table border=\"1\" class=\"dataframe\">\n",
       "  <thead>\n",
       "    <tr style=\"text-align: right;\">\n",
       "      <th></th>\n",
       "      <th>RainNoRain</th>\n",
       "    </tr>\n",
       "    <tr>\n",
       "      <th>Date</th>\n",
       "      <th></th>\n",
       "    </tr>\n",
       "  </thead>\n",
       "  <tbody>\n",
       "    <tr>\n",
       "      <th>1921-01-01</th>\n",
       "      <td>0.0</td>\n",
       "    </tr>\n",
       "    <tr>\n",
       "      <th>1921-01-02</th>\n",
       "      <td>0.0</td>\n",
       "    </tr>\n",
       "    <tr>\n",
       "      <th>1921-01-03</th>\n",
       "      <td>1.0</td>\n",
       "    </tr>\n",
       "    <tr>\n",
       "      <th>1921-01-04</th>\n",
       "      <td>0.0</td>\n",
       "    </tr>\n",
       "    <tr>\n",
       "      <th>1921-01-05</th>\n",
       "      <td>0.0</td>\n",
       "    </tr>\n",
       "    <tr>\n",
       "      <th>...</th>\n",
       "      <td>...</td>\n",
       "    </tr>\n",
       "    <tr>\n",
       "      <th>1990-12-27</th>\n",
       "      <td>0.0</td>\n",
       "    </tr>\n",
       "    <tr>\n",
       "      <th>1990-12-28</th>\n",
       "      <td>0.0</td>\n",
       "    </tr>\n",
       "    <tr>\n",
       "      <th>1990-12-29</th>\n",
       "      <td>0.0</td>\n",
       "    </tr>\n",
       "    <tr>\n",
       "      <th>1990-12-30</th>\n",
       "      <td>0.0</td>\n",
       "    </tr>\n",
       "    <tr>\n",
       "      <th>1990-12-31</th>\n",
       "      <td>0.0</td>\n",
       "    </tr>\n",
       "  </tbody>\n",
       "</table>\n",
       "<p>25567 rows × 1 columns</p>\n",
       "</div>"
      ],
      "text/plain": [
       "            RainNoRain\n",
       "Date                  \n",
       "1921-01-01         0.0\n",
       "1921-01-02         0.0\n",
       "1921-01-03         1.0\n",
       "1921-01-04         0.0\n",
       "1921-01-05         0.0\n",
       "...                ...\n",
       "1990-12-27         0.0\n",
       "1990-12-28         0.0\n",
       "1990-12-29         0.0\n",
       "1990-12-30         0.0\n",
       "1990-12-31         0.0\n",
       "\n",
       "[25567 rows x 1 columns]"
      ]
     },
     "execution_count": 13,
     "metadata": {},
     "output_type": "execute_result"
    }
   ],
   "source": [
    "dSm"
   ]
  },
  {
   "cell_type": "markdown",
   "id": "a1648c75-f9a3-4758-af1c-f0bc747e1e28",
   "metadata": {},
   "source": [
    "Separating the events and counting them"
   ]
  },
  {
   "cell_type": "code",
   "execution_count": 14,
   "id": "6d831639-3a01-491b-87b1-8ea6f7f6d654",
   "metadata": {},
   "outputs": [
    {
     "data": {
      "text/html": [
       "<div>\n",
       "<style scoped>\n",
       "    .dataframe tbody tr th:only-of-type {\n",
       "        vertical-align: middle;\n",
       "    }\n",
       "\n",
       "    .dataframe tbody tr th {\n",
       "        vertical-align: top;\n",
       "    }\n",
       "\n",
       "    .dataframe thead th {\n",
       "        text-align: right;\n",
       "    }\n",
       "</style>\n",
       "<table border=\"1\" class=\"dataframe\">\n",
       "  <thead>\n",
       "    <tr style=\"text-align: right;\">\n",
       "      <th></th>\n",
       "      <th>#</th>\n",
       "    </tr>\n",
       "    <tr>\n",
       "      <th>Date</th>\n",
       "      <th></th>\n",
       "    </tr>\n",
       "  </thead>\n",
       "  <tbody>\n",
       "    <tr>\n",
       "      <th>1921-01-01</th>\n",
       "      <td>1</td>\n",
       "    </tr>\n",
       "    <tr>\n",
       "      <th>1921-01-02</th>\n",
       "      <td>1</td>\n",
       "    </tr>\n",
       "    <tr>\n",
       "      <th>1921-01-03</th>\n",
       "      <td>2</td>\n",
       "    </tr>\n",
       "    <tr>\n",
       "      <th>1921-01-04</th>\n",
       "      <td>3</td>\n",
       "    </tr>\n",
       "    <tr>\n",
       "      <th>1921-01-05</th>\n",
       "      <td>3</td>\n",
       "    </tr>\n",
       "    <tr>\n",
       "      <th>...</th>\n",
       "      <td>...</td>\n",
       "    </tr>\n",
       "    <tr>\n",
       "      <th>1990-12-27</th>\n",
       "      <td>7693</td>\n",
       "    </tr>\n",
       "    <tr>\n",
       "      <th>1990-12-28</th>\n",
       "      <td>7693</td>\n",
       "    </tr>\n",
       "    <tr>\n",
       "      <th>1990-12-29</th>\n",
       "      <td>7693</td>\n",
       "    </tr>\n",
       "    <tr>\n",
       "      <th>1990-12-30</th>\n",
       "      <td>7693</td>\n",
       "    </tr>\n",
       "    <tr>\n",
       "      <th>1990-12-31</th>\n",
       "      <td>7693</td>\n",
       "    </tr>\n",
       "  </tbody>\n",
       "</table>\n",
       "<p>25567 rows × 1 columns</p>\n",
       "</div>"
      ],
      "text/plain": [
       "               #\n",
       "Date            \n",
       "1921-01-01     1\n",
       "1921-01-02     1\n",
       "1921-01-03     2\n",
       "1921-01-04     3\n",
       "1921-01-05     3\n",
       "...          ...\n",
       "1990-12-27  7693\n",
       "1990-12-28  7693\n",
       "1990-12-29  7693\n",
       "1990-12-30  7693\n",
       "1990-12-31  7693\n",
       "\n",
       "[25567 rows x 1 columns]"
      ]
     },
     "execution_count": 14,
     "metadata": {},
     "output_type": "execute_result"
    }
   ],
   "source": [
    "eventsSM=dSm.ne(dSm.shift()).cumsum()\n",
    "eventsSM.columns=[\"#\"]\n",
    "eventsSM"
   ]
  },
  {
   "cell_type": "code",
   "execution_count": 15,
   "id": "8be11c93-1c59-42b7-87b3-fc22e379a2a4",
   "metadata": {},
   "outputs": [
    {
     "data": {
      "text/html": [
       "<div>\n",
       "<style scoped>\n",
       "    .dataframe tbody tr th:only-of-type {\n",
       "        vertical-align: middle;\n",
       "    }\n",
       "\n",
       "    .dataframe tbody tr th {\n",
       "        vertical-align: top;\n",
       "    }\n",
       "\n",
       "    .dataframe thead th {\n",
       "        text-align: right;\n",
       "    }\n",
       "</style>\n",
       "<table border=\"1\" class=\"dataframe\">\n",
       "  <thead>\n",
       "    <tr style=\"text-align: right;\">\n",
       "      <th></th>\n",
       "      <th>RainNoRain</th>\n",
       "      <th>#</th>\n",
       "    </tr>\n",
       "    <tr>\n",
       "      <th>Date</th>\n",
       "      <th></th>\n",
       "      <th></th>\n",
       "    </tr>\n",
       "  </thead>\n",
       "  <tbody>\n",
       "    <tr>\n",
       "      <th>1921-01-01</th>\n",
       "      <td>0.0</td>\n",
       "      <td>1</td>\n",
       "    </tr>\n",
       "    <tr>\n",
       "      <th>1921-01-02</th>\n",
       "      <td>0.0</td>\n",
       "      <td>1</td>\n",
       "    </tr>\n",
       "    <tr>\n",
       "      <th>1921-01-03</th>\n",
       "      <td>1.0</td>\n",
       "      <td>2</td>\n",
       "    </tr>\n",
       "    <tr>\n",
       "      <th>1921-01-04</th>\n",
       "      <td>0.0</td>\n",
       "      <td>3</td>\n",
       "    </tr>\n",
       "    <tr>\n",
       "      <th>1921-01-05</th>\n",
       "      <td>0.0</td>\n",
       "      <td>3</td>\n",
       "    </tr>\n",
       "    <tr>\n",
       "      <th>...</th>\n",
       "      <td>...</td>\n",
       "      <td>...</td>\n",
       "    </tr>\n",
       "    <tr>\n",
       "      <th>1990-12-27</th>\n",
       "      <td>0.0</td>\n",
       "      <td>7693</td>\n",
       "    </tr>\n",
       "    <tr>\n",
       "      <th>1990-12-28</th>\n",
       "      <td>0.0</td>\n",
       "      <td>7693</td>\n",
       "    </tr>\n",
       "    <tr>\n",
       "      <th>1990-12-29</th>\n",
       "      <td>0.0</td>\n",
       "      <td>7693</td>\n",
       "    </tr>\n",
       "    <tr>\n",
       "      <th>1990-12-30</th>\n",
       "      <td>0.0</td>\n",
       "      <td>7693</td>\n",
       "    </tr>\n",
       "    <tr>\n",
       "      <th>1990-12-31</th>\n",
       "      <td>0.0</td>\n",
       "      <td>7693</td>\n",
       "    </tr>\n",
       "  </tbody>\n",
       "</table>\n",
       "<p>25567 rows × 2 columns</p>\n",
       "</div>"
      ],
      "text/plain": [
       "            RainNoRain     #\n",
       "Date                        \n",
       "1921-01-01         0.0     1\n",
       "1921-01-02         0.0     1\n",
       "1921-01-03         1.0     2\n",
       "1921-01-04         0.0     3\n",
       "1921-01-05         0.0     3\n",
       "...                ...   ...\n",
       "1990-12-27         0.0  7693\n",
       "1990-12-28         0.0  7693\n",
       "1990-12-29         0.0  7693\n",
       "1990-12-30         0.0  7693\n",
       "1990-12-31         0.0  7693\n",
       "\n",
       "[25567 rows x 2 columns]"
      ]
     },
     "execution_count": 15,
     "metadata": {},
     "output_type": "execute_result"
    }
   ],
   "source": [
    "dSmCount=pd.concat([dSm,eventsSM], axis=1)\n",
    "dSmCount"
   ]
  },
  {
   "cell_type": "markdown",
   "id": "761b3c64-70e3-48e7-9196-609042980dad",
   "metadata": {},
   "source": [
    "## Statistics of Rain Events"
   ]
  },
  {
   "cell_type": "code",
   "execution_count": 16,
   "id": "93e2c090-1c81-4404-8d5c-8c91777f549c",
   "metadata": {},
   "outputs": [
    {
     "data": {
      "text/html": [
       "<div>\n",
       "<style scoped>\n",
       "    .dataframe tbody tr th:only-of-type {\n",
       "        vertical-align: middle;\n",
       "    }\n",
       "\n",
       "    .dataframe tbody tr th {\n",
       "        vertical-align: top;\n",
       "    }\n",
       "\n",
       "    .dataframe thead th {\n",
       "        text-align: right;\n",
       "    }\n",
       "</style>\n",
       "<table border=\"1\" class=\"dataframe\">\n",
       "  <thead>\n",
       "    <tr style=\"text-align: right;\">\n",
       "      <th></th>\n",
       "      <th>RainNoRain</th>\n",
       "      <th>#</th>\n",
       "    </tr>\n",
       "    <tr>\n",
       "      <th>Date</th>\n",
       "      <th></th>\n",
       "      <th></th>\n",
       "    </tr>\n",
       "  </thead>\n",
       "  <tbody>\n",
       "    <tr>\n",
       "      <th>1921-01-03</th>\n",
       "      <td>1.0</td>\n",
       "      <td>2</td>\n",
       "    </tr>\n",
       "    <tr>\n",
       "      <th>1921-01-13</th>\n",
       "      <td>1.0</td>\n",
       "      <td>4</td>\n",
       "    </tr>\n",
       "    <tr>\n",
       "      <th>1921-01-14</th>\n",
       "      <td>1.0</td>\n",
       "      <td>4</td>\n",
       "    </tr>\n",
       "    <tr>\n",
       "      <th>1921-01-31</th>\n",
       "      <td>1.0</td>\n",
       "      <td>6</td>\n",
       "    </tr>\n",
       "    <tr>\n",
       "      <th>1921-02-03</th>\n",
       "      <td>1.0</td>\n",
       "      <td>8</td>\n",
       "    </tr>\n",
       "    <tr>\n",
       "      <th>...</th>\n",
       "      <td>...</td>\n",
       "      <td>...</td>\n",
       "    </tr>\n",
       "    <tr>\n",
       "      <th>1990-12-21</th>\n",
       "      <td>1.0</td>\n",
       "      <td>7690</td>\n",
       "    </tr>\n",
       "    <tr>\n",
       "      <th>1990-12-23</th>\n",
       "      <td>1.0</td>\n",
       "      <td>7692</td>\n",
       "    </tr>\n",
       "    <tr>\n",
       "      <th>1990-12-24</th>\n",
       "      <td>1.0</td>\n",
       "      <td>7692</td>\n",
       "    </tr>\n",
       "    <tr>\n",
       "      <th>1990-12-25</th>\n",
       "      <td>1.0</td>\n",
       "      <td>7692</td>\n",
       "    </tr>\n",
       "    <tr>\n",
       "      <th>1990-12-26</th>\n",
       "      <td>1.0</td>\n",
       "      <td>7692</td>\n",
       "    </tr>\n",
       "  </tbody>\n",
       "</table>\n",
       "<p>10623 rows × 2 columns</p>\n",
       "</div>"
      ],
      "text/plain": [
       "            RainNoRain     #\n",
       "Date                        \n",
       "1921-01-03         1.0     2\n",
       "1921-01-13         1.0     4\n",
       "1921-01-14         1.0     4\n",
       "1921-01-31         1.0     6\n",
       "1921-02-03         1.0     8\n",
       "...                ...   ...\n",
       "1990-12-21         1.0  7690\n",
       "1990-12-23         1.0  7692\n",
       "1990-12-24         1.0  7692\n",
       "1990-12-25         1.0  7692\n",
       "1990-12-26         1.0  7692\n",
       "\n",
       "[10623 rows x 2 columns]"
      ]
     },
     "execution_count": 16,
     "metadata": {},
     "output_type": "execute_result"
    }
   ],
   "source": [
    "rainfall_events=dSmCount[dSmCount[\"RainNoRain\"]>0.0]\n",
    "rainfall_events"
   ]
  },
  {
   "cell_type": "code",
   "execution_count": 17,
   "id": "4e24cc6c-37d8-4241-ac97-104b3a725b82",
   "metadata": {},
   "outputs": [],
   "source": [
    "rainfall_events_groups=rainfall_events.groupby((rainfall_events['#'].shift() != rainfall_events['#']).cumsum())"
   ]
  },
  {
   "cell_type": "code",
   "execution_count": 18,
   "id": "5b48c275-2a1d-4d2a-958a-10af91575565",
   "metadata": {},
   "outputs": [],
   "source": [
    "rainfall_events_duration=rainfall_events_groups[\"RainNoRain\"].sum()"
   ]
  },
  {
   "cell_type": "code",
   "execution_count": 19,
   "id": "9f96f038-2527-4c7f-8041-51fee08e8433",
   "metadata": {},
   "outputs": [
    {
     "data": {
      "text/plain": [
       "<AxesSubplot:xlabel='#'>"
      ]
     },
     "execution_count": 19,
     "metadata": {},
     "output_type": "execute_result"
    },
    {
     "data": {
      "image/png": "[encoded data removed]",
      "text/plain": [
       "<Figure size 432x288 with 1 Axes>"
      ]
     },
     "metadata": {
      "needs_background": "light"
     },
     "output_type": "display_data"
    }
   ],
   "source": [
    "rainfall_events_duration.plot()"
   ]
  },
  {
   "cell_type": "code",
   "execution_count": 52,
   "id": "1a0af3e6-890a-44e9-b172-18f7ea1aa33a",
   "metadata": {},
   "outputs": [
    {
     "data": {
      "text/plain": [
       "count    3846.000000\n",
       "mean        2.762090\n",
       "std         2.406715\n",
       "min         1.000000\n",
       "25%         1.000000\n",
       "50%         2.000000\n",
       "75%         4.000000\n",
       "max        20.000000\n",
       "Name: RainNoRain, dtype: float64"
      ]
     },
     "execution_count": 52,
     "metadata": {},
     "output_type": "execute_result"
    }
   ],
   "source": [
    "rainfall_events_duration.describe()"
   ]
  },
  {
   "cell_type": "code",
   "execution_count": 20,
   "id": "a5643eb4-176f-4e5a-bd81-35012f4d1794",
   "metadata": {},
   "outputs": [
    {
     "data": {
      "text/plain": [
       "<AxesSubplot:>"
      ]
     },
     "execution_count": 20,
     "metadata": {},
     "output_type": "execute_result"
    },
    {
     "data": {
      "image/png": "[encoded data removed]",
      "text/plain": [
       "<Figure size 432x288 with 1 Axes>"
      ]
     },
     "metadata": {
      "needs_background": "light"
     },
     "output_type": "display_data"
    }
   ],
   "source": [
    "rainfall_events_duration.hist(bins=20)"
   ]
  },
  {
   "cell_type": "markdown",
   "id": "567ffb55-ebb3-4b23-bc2e-4d85f6321a10",
   "metadata": {},
   "source": [
    "## Statistics of non raining days"
   ]
  },
  {
   "cell_type": "code",
   "execution_count": 54,
   "id": "ba43e430-9a04-4534-a1a3-958a76693f1e",
   "metadata": {},
   "outputs": [
    {
     "data": {
      "text/html": [
       "<div>\n",
       "<style scoped>\n",
       "    .dataframe tbody tr th:only-of-type {\n",
       "        vertical-align: middle;\n",
       "    }\n",
       "\n",
       "    .dataframe tbody tr th {\n",
       "        vertical-align: top;\n",
       "    }\n",
       "\n",
       "    .dataframe thead th {\n",
       "        text-align: right;\n",
       "    }\n",
       "</style>\n",
       "<table border=\"1\" class=\"dataframe\">\n",
       "  <thead>\n",
       "    <tr style=\"text-align: right;\">\n",
       "      <th></th>\n",
       "      <th>RainNoRain</th>\n",
       "      <th>#</th>\n",
       "    </tr>\n",
       "    <tr>\n",
       "      <th>Date</th>\n",
       "      <th></th>\n",
       "      <th></th>\n",
       "    </tr>\n",
       "  </thead>\n",
       "  <tbody>\n",
       "    <tr>\n",
       "      <th>1921-01-01</th>\n",
       "      <td>1</td>\n",
       "      <td>1</td>\n",
       "    </tr>\n",
       "    <tr>\n",
       "      <th>1921-01-02</th>\n",
       "      <td>1</td>\n",
       "      <td>1</td>\n",
       "    </tr>\n",
       "    <tr>\n",
       "      <th>1921-01-03</th>\n",
       "      <td>0</td>\n",
       "      <td>2</td>\n",
       "    </tr>\n",
       "    <tr>\n",
       "      <th>1921-01-04</th>\n",
       "      <td>1</td>\n",
       "      <td>3</td>\n",
       "    </tr>\n",
       "    <tr>\n",
       "      <th>1921-01-05</th>\n",
       "      <td>1</td>\n",
       "      <td>3</td>\n",
       "    </tr>\n",
       "    <tr>\n",
       "      <th>...</th>\n",
       "      <td>...</td>\n",
       "      <td>...</td>\n",
       "    </tr>\n",
       "    <tr>\n",
       "      <th>1990-12-27</th>\n",
       "      <td>1</td>\n",
       "      <td>7693</td>\n",
       "    </tr>\n",
       "    <tr>\n",
       "      <th>1990-12-28</th>\n",
       "      <td>1</td>\n",
       "      <td>7693</td>\n",
       "    </tr>\n",
       "    <tr>\n",
       "      <th>1990-12-29</th>\n",
       "      <td>1</td>\n",
       "      <td>7693</td>\n",
       "    </tr>\n",
       "    <tr>\n",
       "      <th>1990-12-30</th>\n",
       "      <td>1</td>\n",
       "      <td>7693</td>\n",
       "    </tr>\n",
       "    <tr>\n",
       "      <th>1990-12-31</th>\n",
       "      <td>1</td>\n",
       "      <td>7693</td>\n",
       "    </tr>\n",
       "  </tbody>\n",
       "</table>\n",
       "<p>25567 rows × 2 columns</p>\n",
       "</div>"
      ],
      "text/plain": [
       "            RainNoRain     #\n",
       "Date                        \n",
       "1921-01-01           1     1\n",
       "1921-01-02           1     1\n",
       "1921-01-03           0     2\n",
       "1921-01-04           1     3\n",
       "1921-01-05           1     3\n",
       "...                ...   ...\n",
       "1990-12-27           1  7693\n",
       "1990-12-28           1  7693\n",
       "1990-12-29           1  7693\n",
       "1990-12-30           1  7693\n",
       "1990-12-31           1  7693\n",
       "\n",
       "[25567 rows x 2 columns]"
      ]
     },
     "execution_count": 54,
     "metadata": {},
     "output_type": "execute_result"
    }
   ],
   "source": [
    "dSmCount['RainNoRain'] = (dSmCount['RainNoRain'] <1 ).astype(int)\n",
    "dSmCount"
   ]
  },
  {
   "cell_type": "code",
   "execution_count": 56,
   "id": "3db11567-4781-46ed-b267-5d03082e60e1",
   "metadata": {},
   "outputs": [
    {
     "data": {
      "text/html": [
       "<div>\n",
       "<style scoped>\n",
       "    .dataframe tbody tr th:only-of-type {\n",
       "        vertical-align: middle;\n",
       "    }\n",
       "\n",
       "    .dataframe tbody tr th {\n",
       "        vertical-align: top;\n",
       "    }\n",
       "\n",
       "    .dataframe thead th {\n",
       "        text-align: right;\n",
       "    }\n",
       "</style>\n",
       "<table border=\"1\" class=\"dataframe\">\n",
       "  <thead>\n",
       "    <tr style=\"text-align: right;\">\n",
       "      <th></th>\n",
       "      <th>RainNoRain</th>\n",
       "      <th>#</th>\n",
       "    </tr>\n",
       "    <tr>\n",
       "      <th>Date</th>\n",
       "      <th></th>\n",
       "      <th></th>\n",
       "    </tr>\n",
       "  </thead>\n",
       "  <tbody>\n",
       "    <tr>\n",
       "      <th>1921-01-01</th>\n",
       "      <td>1</td>\n",
       "      <td>1</td>\n",
       "    </tr>\n",
       "    <tr>\n",
       "      <th>1921-01-02</th>\n",
       "      <td>1</td>\n",
       "      <td>1</td>\n",
       "    </tr>\n",
       "    <tr>\n",
       "      <th>1921-01-04</th>\n",
       "      <td>1</td>\n",
       "      <td>3</td>\n",
       "    </tr>\n",
       "    <tr>\n",
       "      <th>1921-01-05</th>\n",
       "      <td>1</td>\n",
       "      <td>3</td>\n",
       "    </tr>\n",
       "    <tr>\n",
       "      <th>1921-01-06</th>\n",
       "      <td>1</td>\n",
       "      <td>3</td>\n",
       "    </tr>\n",
       "    <tr>\n",
       "      <th>...</th>\n",
       "      <td>...</td>\n",
       "      <td>...</td>\n",
       "    </tr>\n",
       "    <tr>\n",
       "      <th>1990-12-27</th>\n",
       "      <td>1</td>\n",
       "      <td>7693</td>\n",
       "    </tr>\n",
       "    <tr>\n",
       "      <th>1990-12-28</th>\n",
       "      <td>1</td>\n",
       "      <td>7693</td>\n",
       "    </tr>\n",
       "    <tr>\n",
       "      <th>1990-12-29</th>\n",
       "      <td>1</td>\n",
       "      <td>7693</td>\n",
       "    </tr>\n",
       "    <tr>\n",
       "      <th>1990-12-30</th>\n",
       "      <td>1</td>\n",
       "      <td>7693</td>\n",
       "    </tr>\n",
       "    <tr>\n",
       "      <th>1990-12-31</th>\n",
       "      <td>1</td>\n",
       "      <td>7693</td>\n",
       "    </tr>\n",
       "  </tbody>\n",
       "</table>\n",
       "<p>14944 rows × 2 columns</p>\n",
       "</div>"
      ],
      "text/plain": [
       "            RainNoRain     #\n",
       "Date                        \n",
       "1921-01-01           1     1\n",
       "1921-01-02           1     1\n",
       "1921-01-04           1     3\n",
       "1921-01-05           1     3\n",
       "1921-01-06           1     3\n",
       "...                ...   ...\n",
       "1990-12-27           1  7693\n",
       "1990-12-28           1  7693\n",
       "1990-12-29           1  7693\n",
       "1990-12-30           1  7693\n",
       "1990-12-31           1  7693\n",
       "\n",
       "[14944 rows x 2 columns]"
      ]
     },
     "execution_count": 56,
     "metadata": {},
     "output_type": "execute_result"
    }
   ],
   "source": [
    "dry_days=dSmCount[dSmCount[\"RainNoRain\"]> 0]\n",
    "#df.loc[df['First Season'] > 1990, 'First Season'] = 1\n",
    "#dry_days.loc[dry_days[\"RainNoRain\"]<1,\"RainNoRain\"]=1\n",
    "dry_days"
   ]
  },
  {
   "cell_type": "code",
   "execution_count": 57,
   "id": "c4e3fb6e-e618-46b6-921c-a03e9982608d",
   "metadata": {},
   "outputs": [],
   "source": [
    "dry_days_groups=dry_days.groupby((dry_days['#'].shift() != dry_days['#']).cumsum())"
   ]
  },
  {
   "cell_type": "code",
   "execution_count": 58,
   "id": "d92c44a4-5e16-4491-bc06-c43847eccb67",
   "metadata": {},
   "outputs": [],
   "source": [
    "dry_days_duration=dry_days_groups[\"RainNoRain\"].sum()"
   ]
  },
  {
   "cell_type": "code",
   "execution_count": 59,
   "id": "13311c1c-ec09-45d9-9152-788d1edd5912",
   "metadata": {},
   "outputs": [
    {
     "data": {
      "text/plain": [
       "<AxesSubplot:xlabel='#'>"
      ]
     },
     "execution_count": 59,
     "metadata": {},
     "output_type": "execute_result"
    },
    {
     "data": {
      "image/png": "[encoded data removed]",
      "text/plain": [
       "<Figure size 432x288 with 1 Axes>"
      ]
     },
     "metadata": {
      "needs_background": "light"
     },
     "output_type": "display_data"
    }
   ],
   "source": [
    "dry_days_duration.plot()"
   ]
  },
  {
   "cell_type": "code",
   "execution_count": 60,
   "id": "5abd317e-9b0f-4c75-9253-662416cb160f",
   "metadata": {},
   "outputs": [
    {
     "data": {
      "text/plain": [
       "count    3847.000000\n",
       "mean        3.884585\n",
       "std         4.826548\n",
       "min         1.000000\n",
       "25%         1.000000\n",
       "50%         2.000000\n",
       "75%         4.000000\n",
       "max        78.000000\n",
       "Name: RainNoRain, dtype: float64"
      ]
     },
     "execution_count": 60,
     "metadata": {},
     "output_type": "execute_result"
    }
   ],
   "source": [
    "dry_days_duration.describe()"
   ]
  },
  {
   "cell_type": "code",
   "execution_count": 61,
   "id": "00afd1c5-bf78-4149-a17e-ea457df811f7",
   "metadata": {},
   "outputs": [
    {
     "data": {
      "text/plain": [
       "<AxesSubplot:>"
      ]
     },
     "execution_count": 61,
     "metadata": {},
     "output_type": "execute_result"
    },
    {
     "data": {
      "image/png": "[encoded data removed]",
      "text/plain": [
       "<Figure size 432x288 with 1 Axes>"
      ]
     },
     "metadata": {
      "needs_background": "light"
     },
     "output_type": "display_data"
    }
   ],
   "source": [
    "dry_days_duration.hist(bins=78)"
   ]
  },
  {
   "cell_type": "code",
   "execution_count": null,
   "id": "5252ffb2-06a0-41c5-83ad-76f9c5d09d5c",
   "metadata": {},
   "outputs": [],
   "source": []
  }
 ],
 "metadata": {
  "kernelspec": {
   "display_name": "Python 3 (ipykernel)",
   "language": "python",
   "name": "python3"
  },
  "language_info": {
   "codemirror_mode": {
    "name": "ipython",
    "version": 3
   },
   "file_extension": ".py",
   "mimetype": "text/x-python",
   "name": "python",
   "nbconvert_exporter": "python",
   "pygments_lexer": "ipython3",
   "version": "3.7.12"
  }
 },
 "nbformat": 4,
 "nbformat_minor": 5
}
