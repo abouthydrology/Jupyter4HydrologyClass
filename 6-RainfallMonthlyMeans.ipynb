{
 "cells": [
  {
   "cell_type": "markdown",
   "id": "19ce2800-b7f1-4b17-9d6c-bf34823675b1",
   "metadata": {},
   "source": [
    "# Estimating Monthly Rainfall Averages for S. Martino di Castrozza"
   ]
  },
  {
   "cell_type": "code",
   "execution_count": 1,
   "id": "a37cda3b-0c03-4220-8499-b9c596274e3d",
   "metadata": {},
   "outputs": [],
   "source": [
    "import os\n",
    "import pandas as pd\n",
    "import matplotlib.pyplot as plt\n",
    "%matplotlib inline \n",
    "os.chdir('DatiSanMartino')"
   ]
  },
  {
   "cell_type": "code",
   "execution_count": 2,
   "id": "71186ca7-cf6d-4788-b551-bb4c4fff3c43",
   "metadata": {},
   "outputs": [
    {
     "data": {
      "text/plain": [
       "['pioggeSMartino_clean.csv',\n",
       " '.Rhistory',\n",
       " 'sMartinoRainfallReadme.txt',\n",
       " 'elabora2ric.R',\n",
       " 'DailyRainfallSMartino',\n",
       " 'elabora2ric copy.R',\n",
       " 'DailyRainfallSMartino.fea',\n",
       " 'LezioneIdrologia20200307.ipynb',\n",
       " '.Rapp.history',\n",
       " 'pioggeSMartino_clean.numbers',\n",
       " '.ipynb_checkpoints']"
      ]
     },
     "execution_count": 2,
     "metadata": {},
     "output_type": "execute_result"
    }
   ],
   "source": [
    "os.listdir()"
   ]
  },
  {
   "cell_type": "code",
   "execution_count": 3,
   "id": "265952d5-9891-4bdc-bd31-499699c71f0b",
   "metadata": {},
   "outputs": [],
   "source": [
    "dSm=pd.read_feather('DailyRainfallSMartino.fea')\n",
    "dSm=dSm.set_index(\"Date\")"
   ]
  },
  {
   "cell_type": "code",
   "execution_count": 4,
   "id": "78d183b6-6fe9-45f0-9761-c4bee508fdb6",
   "metadata": {},
   "outputs": [
    {
     "data": {
      "text/html": [
       "<div>\n",
       "<style scoped>\n",
       "    .dataframe tbody tr th:only-of-type {\n",
       "        vertical-align: middle;\n",
       "    }\n",
       "\n",
       "    .dataframe tbody tr th {\n",
       "        vertical-align: top;\n",
       "    }\n",
       "\n",
       "    .dataframe thead th {\n",
       "        text-align: right;\n",
       "    }\n",
       "</style>\n",
       "<table border=\"1\" class=\"dataframe\">\n",
       "  <thead>\n",
       "    <tr style=\"text-align: right;\">\n",
       "      <th></th>\n",
       "      <th>Rain[mm]</th>\n",
       "    </tr>\n",
       "    <tr>\n",
       "      <th>Date</th>\n",
       "      <th></th>\n",
       "    </tr>\n",
       "  </thead>\n",
       "  <tbody>\n",
       "    <tr>\n",
       "      <th>1921-01-01</th>\n",
       "      <td>102.0</td>\n",
       "    </tr>\n",
       "    <tr>\n",
       "      <th>1921-02-01</th>\n",
       "      <td>42.0</td>\n",
       "    </tr>\n",
       "    <tr>\n",
       "      <th>1921-03-01</th>\n",
       "      <td>19.2</td>\n",
       "    </tr>\n",
       "    <tr>\n",
       "      <th>1921-04-01</th>\n",
       "      <td>60.9</td>\n",
       "    </tr>\n",
       "    <tr>\n",
       "      <th>1921-05-01</th>\n",
       "      <td>122.0</td>\n",
       "    </tr>\n",
       "    <tr>\n",
       "      <th>...</th>\n",
       "      <td>...</td>\n",
       "    </tr>\n",
       "    <tr>\n",
       "      <th>1990-08-01</th>\n",
       "      <td>160.6</td>\n",
       "    </tr>\n",
       "    <tr>\n",
       "      <th>1990-09-01</th>\n",
       "      <td>111.6</td>\n",
       "    </tr>\n",
       "    <tr>\n",
       "      <th>1990-10-01</th>\n",
       "      <td>76.4</td>\n",
       "    </tr>\n",
       "    <tr>\n",
       "      <th>1990-11-01</th>\n",
       "      <td>107.0</td>\n",
       "    </tr>\n",
       "    <tr>\n",
       "      <th>1990-12-01</th>\n",
       "      <td>191.4</td>\n",
       "    </tr>\n",
       "  </tbody>\n",
       "</table>\n",
       "<p>840 rows × 1 columns</p>\n",
       "</div>"
      ],
      "text/plain": [
       "            Rain[mm]\n",
       "Date                \n",
       "1921-01-01     102.0\n",
       "1921-02-01      42.0\n",
       "1921-03-01      19.2\n",
       "1921-04-01      60.9\n",
       "1921-05-01     122.0\n",
       "...              ...\n",
       "1990-08-01     160.6\n",
       "1990-09-01     111.6\n",
       "1990-10-01      76.4\n",
       "1990-11-01     107.0\n",
       "1990-12-01     191.4\n",
       "\n",
       "[840 rows x 1 columns]"
      ]
     },
     "execution_count": 4,
     "metadata": {},
     "output_type": "execute_result"
    }
   ],
   "source": [
    "monthly_precipitation_SM=dSm.resample(\"1MS\")\n",
    "mPT=monthly_precipitation_SM.sum()\n",
    "mPT"
   ]
  },
  {
   "cell_type": "code",
   "execution_count": 5,
   "id": "731ccde9-830d-4f38-9233-23872f9914f8",
   "metadata": {},
   "outputs": [
    {
     "data": {
      "text/plain": [
       "Int64Index([ 1,  2,  3,  4,  5,  6,  7,  8,  9, 10,\n",
       "            ...\n",
       "             3,  4,  5,  6,  7,  8,  9, 10, 11, 12],\n",
       "           dtype='int64', name='Date', length=840)"
      ]
     },
     "execution_count": 5,
     "metadata": {},
     "output_type": "execute_result"
    }
   ],
   "source": [
    "mPT.index.month"
   ]
  },
  {
   "cell_type": "code",
   "execution_count": 6,
   "id": "7b5c8134-dd55-4834-b737-e55d56aea9d8",
   "metadata": {},
   "outputs": [
    {
     "data": {
      "text/html": [
       "<div>\n",
       "<style scoped>\n",
       "    .dataframe tbody tr th:only-of-type {\n",
       "        vertical-align: middle;\n",
       "    }\n",
       "\n",
       "    .dataframe tbody tr th {\n",
       "        vertical-align: top;\n",
       "    }\n",
       "\n",
       "    .dataframe thead th {\n",
       "        text-align: right;\n",
       "    }\n",
       "</style>\n",
       "<table border=\"1\" class=\"dataframe\">\n",
       "  <thead>\n",
       "    <tr style=\"text-align: right;\">\n",
       "      <th></th>\n",
       "      <th>Rain[mm]</th>\n",
       "    </tr>\n",
       "    <tr>\n",
       "      <th>Date</th>\n",
       "      <th></th>\n",
       "    </tr>\n",
       "  </thead>\n",
       "  <tbody>\n",
       "    <tr>\n",
       "      <th>1921-01-01</th>\n",
       "      <td>102.0</td>\n",
       "    </tr>\n",
       "    <tr>\n",
       "      <th>1922-01-01</th>\n",
       "      <td>37.0</td>\n",
       "    </tr>\n",
       "    <tr>\n",
       "      <th>1923-01-01</th>\n",
       "      <td>80.0</td>\n",
       "    </tr>\n",
       "    <tr>\n",
       "      <th>1924-01-01</th>\n",
       "      <td>102.0</td>\n",
       "    </tr>\n",
       "    <tr>\n",
       "      <th>1925-01-01</th>\n",
       "      <td>7.0</td>\n",
       "    </tr>\n",
       "    <tr>\n",
       "      <th>...</th>\n",
       "      <td>...</td>\n",
       "    </tr>\n",
       "    <tr>\n",
       "      <th>1986-01-01</th>\n",
       "      <td>43.4</td>\n",
       "    </tr>\n",
       "    <tr>\n",
       "      <th>1987-01-01</th>\n",
       "      <td>40.6</td>\n",
       "    </tr>\n",
       "    <tr>\n",
       "      <th>1988-01-01</th>\n",
       "      <td>188.2</td>\n",
       "    </tr>\n",
       "    <tr>\n",
       "      <th>1989-01-01</th>\n",
       "      <td>69.4</td>\n",
       "    </tr>\n",
       "    <tr>\n",
       "      <th>1990-01-01</th>\n",
       "      <td>5.6</td>\n",
       "    </tr>\n",
       "  </tbody>\n",
       "</table>\n",
       "<p>70 rows × 1 columns</p>\n",
       "</div>"
      ],
      "text/plain": [
       "            Rain[mm]\n",
       "Date                \n",
       "1921-01-01     102.0\n",
       "1922-01-01      37.0\n",
       "1923-01-01      80.0\n",
       "1924-01-01     102.0\n",
       "1925-01-01       7.0\n",
       "...              ...\n",
       "1986-01-01      43.4\n",
       "1987-01-01      40.6\n",
       "1988-01-01     188.2\n",
       "1989-01-01      69.4\n",
       "1990-01-01       5.6\n",
       "\n",
       "[70 rows x 1 columns]"
      ]
     },
     "execution_count": 6,
     "metadata": {},
     "output_type": "execute_result"
    }
   ],
   "source": [
    "JanM=mPT[mPT.index.month==1]\n",
    "JanM"
   ]
  },
  {
   "cell_type": "code",
   "execution_count": 7,
   "id": "8407e04c-0600-4a45-9a1e-efa9f0ef637f",
   "metadata": {},
   "outputs": [
    {
     "data": {
      "text/plain": [
       "Rain[mm]    67.987143\n",
       "dtype: float64"
      ]
     },
     "execution_count": 7,
     "metadata": {},
     "output_type": "execute_result"
    }
   ],
   "source": [
    "JanM.mean()"
   ]
  },
  {
   "cell_type": "code",
   "execution_count": 8,
   "id": "c85e781c-ac85-42ee-887b-0310f204d0cc",
   "metadata": {},
   "outputs": [
    {
     "data": {
      "text/plain": [
       "67.98714285714286"
      ]
     },
     "execution_count": 8,
     "metadata": {},
     "output_type": "execute_result"
    }
   ],
   "source": [
    "JanM.mean()[0]"
   ]
  },
  {
   "cell_type": "code",
   "execution_count": 9,
   "id": "923ac87e-bd98-45d3-989c-e7785a36986a",
   "metadata": {},
   "outputs": [
    {
     "data": {
      "text/plain": [
       "[67.98714285714286,\n",
       " 55.27857142857143,\n",
       " 76.28714285714287,\n",
       " 84.86,\n",
       " 136.30285714285714,\n",
       " 137.66857142857145,\n",
       " 166.43714285714287,\n",
       " 150.13285714285715,\n",
       " 136.58857142857147,\n",
       " 143.88571428571427,\n",
       " 145.46571428571428,\n",
       " 121.87142857142855]"
      ]
     },
     "execution_count": 9,
     "metadata": {},
     "output_type": "execute_result"
    }
   ],
   "source": [
    "mean_monthly_rainfall=[]\n",
    "for month in range(1,13):\n",
    "    mean_monthly_rainfall.append(mPT[mPT.index.month==month].mean()[0])\n",
    "mean_monthly_rainfall    "
   ]
  },
  {
   "cell_type": "code",
   "execution_count": 10,
   "id": "0cf32056-d30d-4645-8ff6-e2ac0387386c",
   "metadata": {},
   "outputs": [
    {
     "data": {
      "text/plain": [
       "1422.7657142857145"
      ]
     },
     "execution_count": 10,
     "metadata": {},
     "output_type": "execute_result"
    }
   ],
   "source": [
    "sum(mean_monthly_rainfall)"
   ]
  },
  {
   "cell_type": "code",
   "execution_count": 11,
   "id": "6515d2b7-79fb-4395-ba82-73bca735baea",
   "metadata": {},
   "outputs": [],
   "source": [
    "months=['JAN','FEB','MAR','APR','MAY','JUN','JUL','AUG','SEP','OCT','NOV','DEC']"
   ]
  },
  {
   "cell_type": "code",
   "execution_count": 12,
   "id": "3bc2708b-c89d-4d80-b703-edac591ed337",
   "metadata": {},
   "outputs": [
    {
     "data": {
      "text/html": [
       "<div>\n",
       "<style scoped>\n",
       "    .dataframe tbody tr th:only-of-type {\n",
       "        vertical-align: middle;\n",
       "    }\n",
       "\n",
       "    .dataframe tbody tr th {\n",
       "        vertical-align: top;\n",
       "    }\n",
       "\n",
       "    .dataframe thead th {\n",
       "        text-align: right;\n",
       "    }\n",
       "</style>\n",
       "<table border=\"1\" class=\"dataframe\">\n",
       "  <thead>\n",
       "    <tr style=\"text-align: right;\">\n",
       "      <th></th>\n",
       "      <th>Mean Precipitation [mm]</th>\n",
       "    </tr>\n",
       "    <tr>\n",
       "      <th>Month</th>\n",
       "      <th></th>\n",
       "    </tr>\n",
       "  </thead>\n",
       "  <tbody>\n",
       "    <tr>\n",
       "      <th>JAN</th>\n",
       "      <td>67.987143</td>\n",
       "    </tr>\n",
       "    <tr>\n",
       "      <th>FEB</th>\n",
       "      <td>55.278571</td>\n",
       "    </tr>\n",
       "    <tr>\n",
       "      <th>MAR</th>\n",
       "      <td>76.287143</td>\n",
       "    </tr>\n",
       "    <tr>\n",
       "      <th>APR</th>\n",
       "      <td>84.86</td>\n",
       "    </tr>\n",
       "    <tr>\n",
       "      <th>MAY</th>\n",
       "      <td>136.302857</td>\n",
       "    </tr>\n",
       "    <tr>\n",
       "      <th>JUN</th>\n",
       "      <td>137.668571</td>\n",
       "    </tr>\n",
       "    <tr>\n",
       "      <th>JUL</th>\n",
       "      <td>166.437143</td>\n",
       "    </tr>\n",
       "    <tr>\n",
       "      <th>AUG</th>\n",
       "      <td>150.132857</td>\n",
       "    </tr>\n",
       "    <tr>\n",
       "      <th>SEP</th>\n",
       "      <td>136.588571</td>\n",
       "    </tr>\n",
       "    <tr>\n",
       "      <th>OCT</th>\n",
       "      <td>143.885714</td>\n",
       "    </tr>\n",
       "    <tr>\n",
       "      <th>NOV</th>\n",
       "      <td>145.465714</td>\n",
       "    </tr>\n",
       "    <tr>\n",
       "      <th>DEC</th>\n",
       "      <td>121.871429</td>\n",
       "    </tr>\n",
       "  </tbody>\n",
       "</table>\n",
       "</div>"
      ],
      "text/plain": [
       "      Mean Precipitation [mm]\n",
       "Month                        \n",
       "JAN                 67.987143\n",
       "FEB                 55.278571\n",
       "MAR                 76.287143\n",
       "APR                     84.86\n",
       "MAY                136.302857\n",
       "JUN                137.668571\n",
       "JUL                166.437143\n",
       "AUG                150.132857\n",
       "SEP                136.588571\n",
       "OCT                143.885714\n",
       "NOV                145.465714\n",
       "DEC                121.871429"
      ]
     },
     "execution_count": 12,
     "metadata": {},
     "output_type": "execute_result"
    }
   ],
   "source": [
    "mr=pd.DataFrame([months,mean_monthly_rainfall]).T\n",
    "mr.columns=[\"Month\",\"Mean Precipitation [mm]\"]\n",
    "mr=mr.set_index(\"Month\")\n",
    "mr"
   ]
  },
  {
   "cell_type": "code",
   "execution_count": 13,
   "id": "1e810ed1-b826-4099-b75c-d8dcd646d073",
   "metadata": {},
   "outputs": [
    {
     "data": {
      "text/plain": [
       "<AxesSubplot:xlabel='Month'>"
      ]
     },
     "execution_count": 13,
     "metadata": {},
     "output_type": "execute_result"
    },
    {
     "data": {
      "image/png": "[encoded data removed]",
      "text/plain": [
       "<Figure size 864x288 with 1 Axes>"
      ]
     },
     "metadata": {
      "needs_background": "light"
     },
     "output_type": "display_data"
    }
   ],
   "source": [
    "mr.plot(kind='bar',figsize=(12,4))"
   ]
  },
  {
   "cell_type": "code",
   "execution_count": null,
   "id": "8e199437-7333-4e82-a553-790099f317e2",
   "metadata": {},
   "outputs": [],
   "source": []
  }
 ],
 "metadata": {
  "kernelspec": {
   "display_name": "Python 3 (ipykernel)",
   "language": "python",
   "name": "python3"
  },
  "language_info": {
   "codemirror_mode": {
    "name": "ipython",
    "version": 3
   },
   "file_extension": ".py",
   "mimetype": "text/x-python",
   "name": "python",
   "nbconvert_exporter": "python",
   "pygments_lexer": "ipython3",
   "version": "3.7.12"
  }
 },
 "nbformat": 4,
 "nbformat_minor": 5
}
